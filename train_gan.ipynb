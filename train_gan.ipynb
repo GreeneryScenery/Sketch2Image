{
  "cells": [
    {
      "cell_type": "markdown",
      "metadata": {
        "id": "C52cF49itThe"
      },
      "source": [
        "# Setting up"
      ]
    },
    {
      "cell_type": "code",
      "execution_count": null,
      "metadata": {
        "id": "TErk3qLqtWdq"
      },
      "outputs": [],
      "source": [
        "# For Google Colab\n",
        "# !pip install quickdraw ipyplot plotly"
      ]
    },
    {
      "cell_type": "code",
      "execution_count": null,
      "metadata": {
        "id": "ATVXzwrDtThk",
        "colab": {
          "base_uri": "https://localhost:8080/"
        },
        "outputId": "499120bb-f3c5-47cd-a8d7-daf24967ad4a"
      },
      "outputs": [
        {
          "output_type": "stream",
          "name": "stdout",
          "text": [
            "\n",
            "        WARNING! Google Colab Environment detected!\n",
            "        You might encounter issues while running in Google Colab environment.\n",
            "        If images are not displaying properly please try setting `force_b64` param to `True`.\n",
            "        \n"
          ]
        }
      ],
      "source": [
        "from quickdraw_preprocess_gan import *\n",
        "import tensorflow as tf\n",
        "\n",
        "number_of_names = 10\n",
        "number_of_drawings = max_drawings"
      ]
    },
    {
      "cell_type": "code",
      "source": [
        "gpus = tf.config.experimental.list_physical_devices('GPU')\n",
        "for gpu in gpus: \n",
        "    tf.config.experimental.set_memory_growth(gpu, True)"
      ],
      "metadata": {
        "id": "qe73I78p3ar9"
      },
      "execution_count": null,
      "outputs": []
    },
    {
      "cell_type": "markdown",
      "metadata": {
        "id": "3g_B3kEUtThm"
      },
      "source": [
        "# Creating and preprocessing dataset"
      ]
    },
    {
      "cell_type": "code",
      "execution_count": null,
      "metadata": {
        "id": "YigxRB_g2_xz",
        "colab": {
          "base_uri": "https://localhost:8080/",
          "height": 80
        },
        "outputId": "2ae9ce70-f344-48c2-e0bc-7c2bc25d4977"
      },
      "outputs": [
        {
          "output_type": "stream",
          "name": "stdout",
          "text": [
            "loading chair drawings\n",
            "load complete\n"
          ]
        },
        {
          "output_type": "execute_result",
          "data": {
            "text/plain": [
              "<PIL.Image.Image image mode=L size=28x28 at 0x7FDC8DD2EC70>"
            ],
            "image/png": "[encoded data removed]"
          },
          "metadata": {},
          "execution_count": 4
        }
      ],
      "source": [
        "random_image = random_image(1)\n",
        "random_image_array = preprocess_image(random_image)\n",
        "unprocess_array(random_image_array)"
      ]
    },
    {
      "cell_type": "code",
      "execution_count": null,
      "metadata": {
        "id": "y45Sm9YqtThn",
        "colab": {
          "base_uri": "https://localhost:8080/"
        },
        "outputId": "4cdbb0c1-1739-409e-e56a-185150cd9935"
      },
      "outputs": [
        {
          "output_type": "execute_result",
          "data": {
            "text/plain": [
              "['dishwasher', 'dragon', 'clarinet', 'fireplace', 'grass']"
            ]
          },
          "metadata": {},
          "execution_count": 5
        }
      ],
      "source": [
        "random_names = random_names(number_of_names, seed = 3) # 2\n",
        "random_names"
      ]
    },
    {
      "cell_type": "code",
      "execution_count": null,
      "metadata": {
        "id": "dBtKn0OmtThp",
        "colab": {
          "base_uri": "https://localhost:8080/"
        },
        "outputId": "a63e7bea-826d-4e28-b64b-fe9826974805"
      },
      "outputs": [
        {
          "output_type": "stream",
          "name": "stdout",
          "text": [
            "downloading dishwasher from https://storage.googleapis.com/quickdraw_dataset/full/binary/dishwasher.bin\n",
            "download complete\n",
            "loading dishwasher drawings\n",
            "load complete\n",
            "downloading dragon from https://storage.googleapis.com/quickdraw_dataset/full/binary/dragon.bin\n",
            "download complete\n",
            "loading dragon drawings\n",
            "load complete\n",
            "downloading clarinet from https://storage.googleapis.com/quickdraw_dataset/full/binary/clarinet.bin\n",
            "download complete\n",
            "loading clarinet drawings\n",
            "load complete\n",
            "loading fireplace drawings\n",
            "load complete\n",
            "downloading grass from https://storage.googleapis.com/quickdraw_dataset/full/binary/grass.bin\n",
            "download complete\n",
            "loading grass drawings\n",
            "load complete\n"
          ]
        },
        {
          "output_type": "execute_result",
          "data": {
            "text/plain": [
              "{'dishwasher': [<quickdraw.data.QuickDrawing at 0x7fdbe0d48d90>,\n",
              "  <quickdraw.data.QuickDrawing at 0x7fdbe0d48b20>,\n",
              "  <quickdraw.data.QuickDrawing at 0x7fdbe0d48a30>,\n",
              "  <quickdraw.data.QuickDrawing at 0x7fdbe0d48f40>,\n",
              "  <quickdraw.data.QuickDrawing at 0x7fdbe0d48ee0>,\n",
              "  <quickdraw.data.QuickDrawing at 0x7fdbe0cd8070>,\n",
              "  <quickdraw.data.QuickDrawing at 0x7fdbe0cd8040>,\n",
              "  <quickdraw.data.QuickDrawing at 0x7fdbe0cd8100>,\n",
              "  <quickdraw.data.QuickDrawing at 0x7fdbe0cd8640>,\n",
              "  <quickdraw.data.QuickDrawing at 0x7fdbe0cd8610>],\n",
              " 'dragon': [<quickdraw.data.QuickDrawing at 0x7fdbe0cd8a90>,\n",
              "  <quickdraw.data.QuickDrawing at 0x7fdbe0cd8c70>,\n",
              "  <quickdraw.data.QuickDrawing at 0x7fdbe0cd8e20>,\n",
              "  <quickdraw.data.QuickDrawing at 0x7fdbe0cd8df0>,\n",
              "  <quickdraw.data.QuickDrawing at 0x7fdbe0cd8850>,\n",
              "  <quickdraw.data.QuickDrawing at 0x7fdbe0cd8d30>,\n",
              "  <quickdraw.data.QuickDrawing at 0x7fdbe0cd8d00>,\n",
              "  <quickdraw.data.QuickDrawing at 0x7fdbe0cd8f10>,\n",
              "  <quickdraw.data.QuickDrawing at 0x7fdbe0cd8ca0>,\n",
              "  <quickdraw.data.QuickDrawing at 0x7fdbe0cd8e50>],\n",
              " 'clarinet': [<quickdraw.data.QuickDrawing at 0x7fdbe0cd84c0>,\n",
              "  <quickdraw.data.QuickDrawing at 0x7fdbe0cd8940>,\n",
              "  <quickdraw.data.QuickDrawing at 0x7fdbe0cd8cd0>,\n",
              "  <quickdraw.data.QuickDrawing at 0x7fdbe0cd8730>,\n",
              "  <quickdraw.data.QuickDrawing at 0x7fdbe0cd8970>,\n",
              "  <quickdraw.data.QuickDrawing at 0x7fdbe0cd8790>,\n",
              "  <quickdraw.data.QuickDrawing at 0x7fdbe0c79040>,\n",
              "  <quickdraw.data.QuickDrawing at 0x7fdbe0c790a0>,\n",
              "  <quickdraw.data.QuickDrawing at 0x7fdbe0c79100>,\n",
              "  <quickdraw.data.QuickDrawing at 0x7fdbe0c79160>],\n",
              " 'fireplace': [<quickdraw.data.QuickDrawing at 0x7fdbe0c79370>,\n",
              "  <quickdraw.data.QuickDrawing at 0x7fdbe0c79400>,\n",
              "  <quickdraw.data.QuickDrawing at 0x7fdbe0c792e0>,\n",
              "  <quickdraw.data.QuickDrawing at 0x7fdbe0c79460>,\n",
              "  <quickdraw.data.QuickDrawing at 0x7fdbe0c794c0>,\n",
              "  <quickdraw.data.QuickDrawing at 0x7fdbe0c79520>,\n",
              "  <quickdraw.data.QuickDrawing at 0x7fdbe0c79580>,\n",
              "  <quickdraw.data.QuickDrawing at 0x7fdbe0c795e0>,\n",
              "  <quickdraw.data.QuickDrawing at 0x7fdbe0c79640>,\n",
              "  <quickdraw.data.QuickDrawing at 0x7fdbe0c796a0>],\n",
              " 'grass': [<quickdraw.data.QuickDrawing at 0x7fdbe0c79df0>,\n",
              "  <quickdraw.data.QuickDrawing at 0x7fdbe0c79b80>,\n",
              "  <quickdraw.data.QuickDrawing at 0x7fdbe0c79d30>,\n",
              "  <quickdraw.data.QuickDrawing at 0x7fdbe0c79af0>,\n",
              "  <quickdraw.data.QuickDrawing at 0x7fdbe0c79a00>,\n",
              "  <quickdraw.data.QuickDrawing at 0x7fdbe0c797c0>,\n",
              "  <quickdraw.data.QuickDrawing at 0x7fdbe0c79850>,\n",
              "  <quickdraw.data.QuickDrawing at 0x7fdbe0c79700>,\n",
              "  <quickdraw.data.QuickDrawing at 0x7fdbe0c79a60>,\n",
              "  <quickdraw.data.QuickDrawing at 0x7fdbe0c79dc0>]}"
            ]
          },
          "metadata": {},
          "execution_count": 6
        }
      ],
      "source": [
        "random_names_image_dict = image_dict_names(random_names)\n",
        "random_names_image_dict"
      ]
    },
    {
      "cell_type": "code",
      "execution_count": null,
      "metadata": {
        "id": "RO7xc-4KtThp"
      },
      "outputs": [],
      "source": [
        "# plot_image_dict_tabs(random_names_image_dict)"
      ]
    },
    {
      "cell_type": "code",
      "source": [
        "examples, labels = preprocess_image_dict_to_arrays(random_names_image_dict)"
      ],
      "metadata": {
        "id": "DpYMCgrkegf5"
      },
      "execution_count": null,
      "outputs": []
    },
    {
      "cell_type": "code",
      "execution_count": null,
      "metadata": {
        "id": "qOyeBrf8tThr"
      },
      "outputs": [],
      "source": [
        "# ipyplot.plot_class_tabs(images = examples, labels = labels, max_imgs_per_tab = 6, img_width = 128)"
      ]
    },
    {
      "cell_type": "code",
      "execution_count": null,
      "metadata": {
        "id": "_BOFhFV_tThs",
        "colab": {
          "base_uri": "https://localhost:8080/"
        },
        "outputId": "a9503b91-0788-49c3-f3b5-9556055e8fcd"
      },
      "outputs": [
        {
          "output_type": "execute_result",
          "data": {
            "text/plain": [
              "<TensorSliceDataset element_spec=TensorSpec(shape=(28, 28), dtype=tf.float64, name=None)>"
            ]
          },
          "metadata": {},
          "execution_count": 10
        }
      ],
      "source": [
        "dataset = tf.data.Dataset.from_tensor_slices(examples)\n",
        "dataset"
      ]
    },
    {
      "cell_type": "code",
      "execution_count": null,
      "metadata": {
        "id": "Z9524R12tTht",
        "colab": {
          "base_uri": "https://localhost:8080/"
        },
        "outputId": "8a262133-4600-4f8d-80b5-962375ad54fb"
      },
      "outputs": [
        {
          "output_type": "execute_result",
          "data": {
            "text/plain": [
              "<PrefetchDataset element_spec=TensorSpec(shape=(None, 28, 28), dtype=tf.float64, name=None)>"
            ]
          },
          "metadata": {},
          "execution_count": 11
        }
      ],
      "source": [
        "dataset = dataset.cache()\n",
        "dataset = dataset.shuffle(buffer_size = number_of_names * number_of_drawings)\n",
        "dataset = dataset.repeat(500)\n",
        "dataset = dataset.batch(128)\n",
        "dataset = dataset.prefetch(64)\n",
        "dataset"
      ]
    },
    {
      "cell_type": "code",
      "execution_count": null,
      "metadata": {
        "id": "GjnJ0EbntThu",
        "colab": {
          "base_uri": "https://localhost:8080/"
        },
        "outputId": "9affd2fa-d1aa-48b3-d5b5-9cb1a184d52a"
      },
      "outputs": [
        {
          "output_type": "execute_result",
          "data": {
            "text/plain": [
              "<tensorflow.python.data.ops.dataset_ops._NumpyIterator at 0x7fdbe0c808e0>"
            ]
          },
          "metadata": {},
          "execution_count": 12
        }
      ],
      "source": [
        "dataset_iterator = dataset.as_numpy_iterator()\n",
        "dataset_iterator"
      ]
    },
    {
      "cell_type": "code",
      "execution_count": null,
      "metadata": {
        "id": "GtYhjlR-tThw",
        "colab": {
          "base_uri": "https://localhost:8080/"
        },
        "outputId": "b83f9b6c-480f-467b-e78b-4f5f88a7f7da"
      },
      "outputs": [
        {
          "output_type": "execute_result",
          "data": {
            "text/plain": [
              "array([[[1.        , 1.        , 1.        , ..., 1.        ,\n",
              "         1.        , 1.        ],\n",
              "        [1.        , 1.        , 1.        , ..., 0.95110868,\n",
              "         0.95727745, 0.84990025],\n",
              "        [1.        , 1.        , 1.        , ..., 1.        ,\n",
              "         1.        , 0.85743037],\n",
              "        ...,\n",
              "        [0.99498561, 1.        , 0.94583518, ..., 1.        ,\n",
              "         1.        , 1.        ],\n",
              "        [1.        , 1.        , 0.96097278, ..., 1.        ,\n",
              "         1.        , 1.        ],\n",
              "        [1.        , 1.        , 1.        , ..., 0.99204118,\n",
              "         1.        , 1.        ]],\n",
              "\n",
              "       [[1.        , 1.        , 1.        , ..., 1.        ,\n",
              "         1.        , 1.        ],\n",
              "        [1.        , 1.        , 1.        , ..., 1.        ,\n",
              "         1.        , 1.        ],\n",
              "        [1.        , 1.        , 1.        , ..., 1.        ,\n",
              "         1.        , 1.        ],\n",
              "        ...,\n",
              "        [1.        , 1.        , 1.        , ..., 1.        ,\n",
              "         1.        , 1.        ],\n",
              "        [1.        , 1.        , 1.        , ..., 1.        ,\n",
              "         1.        , 1.        ],\n",
              "        [1.        , 1.        , 1.        , ..., 1.        ,\n",
              "         1.        , 1.        ]],\n",
              "\n",
              "       [[1.        , 1.        , 1.        , ..., 1.        ,\n",
              "         1.        , 1.        ],\n",
              "        [1.        , 1.        , 1.        , ..., 1.        ,\n",
              "         1.        , 1.        ],\n",
              "        [1.        , 1.        , 1.        , ..., 1.        ,\n",
              "         1.        , 1.        ],\n",
              "        ...,\n",
              "        [1.        , 1.        , 1.        , ..., 1.        ,\n",
              "         1.        , 1.        ],\n",
              "        [1.        , 1.        , 1.        , ..., 1.        ,\n",
              "         1.        , 1.        ],\n",
              "        [1.        , 1.        , 1.        , ..., 1.        ,\n",
              "         1.        , 1.        ]],\n",
              "\n",
              "       ...,\n",
              "\n",
              "       [[1.        , 1.        , 1.        , ..., 1.        ,\n",
              "         1.        , 1.        ],\n",
              "        [1.        , 1.        , 1.        , ..., 1.        ,\n",
              "         1.        , 1.        ],\n",
              "        [1.        , 1.        , 1.        , ..., 1.        ,\n",
              "         1.        , 1.        ],\n",
              "        ...,\n",
              "        [1.        , 1.        , 1.        , ..., 1.        ,\n",
              "         1.        , 1.        ],\n",
              "        [1.        , 1.        , 1.        , ..., 0.99272139,\n",
              "         1.        , 1.        ],\n",
              "        [1.        , 1.        , 1.        , ..., 1.        ,\n",
              "         1.        , 1.        ]],\n",
              "\n",
              "       [[1.        , 1.        , 1.        , ..., 1.        ,\n",
              "         1.        , 1.        ],\n",
              "        [1.        , 1.        , 1.        , ..., 1.        ,\n",
              "         1.        , 1.        ],\n",
              "        [1.        , 1.        , 1.        , ..., 1.        ,\n",
              "         1.        , 1.        ],\n",
              "        ...,\n",
              "        [1.        , 1.        , 1.        , ..., 1.        ,\n",
              "         1.        , 1.        ],\n",
              "        [1.        , 1.        , 1.        , ..., 1.        ,\n",
              "         1.        , 1.        ],\n",
              "        [1.        , 1.        , 1.        , ..., 1.        ,\n",
              "         1.        , 1.        ]],\n",
              "\n",
              "       [[1.        , 1.        , 1.        , ..., 1.        ,\n",
              "         1.        , 1.        ],\n",
              "        [1.        , 1.        , 1.        , ..., 1.        ,\n",
              "         1.        , 1.        ],\n",
              "        [1.        , 1.        , 1.        , ..., 1.        ,\n",
              "         1.        , 1.        ],\n",
              "        ...,\n",
              "        [1.        , 1.        , 1.        , ..., 1.        ,\n",
              "         1.        , 1.        ],\n",
              "        [1.        , 1.        , 1.        , ..., 1.        ,\n",
              "         1.        , 1.        ],\n",
              "        [1.        , 1.        , 1.        , ..., 1.        ,\n",
              "         1.        , 1.        ]]])"
            ]
          },
          "metadata": {},
          "execution_count": 13
        }
      ],
      "source": [
        "batch = dataset_iterator.next()\n",
        "batch"
      ]
    },
    {
      "cell_type": "code",
      "execution_count": null,
      "metadata": {
        "id": "YRmGH0M5tThx"
      },
      "outputs": [],
      "source": [
        "# ipyplot.plot_images(images = batch, max_images = 6, img_width = 128)"
      ]
    },
    {
      "cell_type": "markdown",
      "source": [
        "# Building GAN"
      ],
      "metadata": {
        "id": "drb_3Tdq7G2n"
      }
    },
    {
      "cell_type": "code",
      "source": [
        "# Bring in the sequential api for the generator and discriminator\n",
        "from tensorflow.keras.models import Sequential\n",
        "# Bring in the layers for the neural network\n",
        "from tensorflow.keras.layers import Conv2D, Dense, Flatten, Reshape, LeakyReLU, Dropout, UpSampling2D"
      ],
      "metadata": {
        "id": "0V3rk2Q688tm"
      },
      "execution_count": null,
      "outputs": []
    },
    {
      "cell_type": "markdown",
      "source": [
        "## Building generator"
      ],
      "metadata": {
        "id": "bsgiKByIATOx"
      }
    },
    {
      "cell_type": "code",
      "source": [
        "def build_generator(): \n",
        "    model = Sequential()\n",
        "\n",
        "    # Takes in random values and reshapes it to 7x7x128\n",
        "    # Beginnings of a generated image\n",
        "    model.add(Dense(7*7*128, input_dim=128))\n",
        "    model.add(LeakyReLU(0.2))\n",
        "    model.add(Reshape((7,7,128)))\n",
        "\n",
        "    # Upsampling block 1 \n",
        "    model.add(UpSampling2D())\n",
        "    model.add(Conv2D(128, 5, padding='same'))\n",
        "    model.add(LeakyReLU(0.2))\n",
        "\n",
        "    # Upsampling block 2 \n",
        "    model.add(UpSampling2D())\n",
        "    model.add(Conv2D(128, 5, padding='same'))\n",
        "    model.add(LeakyReLU(0.2))\n",
        "\n",
        "    # Convolutional block 1\n",
        "    model.add(Conv2D(128, 4, padding='same'))\n",
        "    model.add(LeakyReLU(0.2))\n",
        "\n",
        "    # Convolutional block 2\n",
        "    model.add(Conv2D(128, 4, padding='same'))\n",
        "    model.add(LeakyReLU(0.2))\n",
        "\n",
        "    # Conv layer to get to one channel\n",
        "    model.add(Conv2D(1, 4, padding='same', activation='sigmoid'))\n",
        "\n",
        "    return model"
      ],
      "metadata": {
        "id": "HpNYe4FfAVxp"
      },
      "execution_count": null,
      "outputs": []
    },
    {
      "cell_type": "code",
      "source": [
        "generator = build_generator()"
      ],
      "metadata": {
        "id": "2alDjkfjAYr9"
      },
      "execution_count": null,
      "outputs": []
    },
    {
      "cell_type": "code",
      "source": [
        "generator.summary()"
      ],
      "metadata": {
        "id": "KCWyAuBFAZ-r",
        "colab": {
          "base_uri": "https://localhost:8080/"
        },
        "outputId": "06ebaaca-4d83-4011-eb5e-11adc2d5ac68"
      },
      "execution_count": null,
      "outputs": [
        {
          "output_type": "stream",
          "name": "stdout",
          "text": [
            "Model: \"sequential\"\n",
            "_________________________________________________________________\n",
            " Layer (type)                Output Shape              Param #   \n",
            "=================================================================\n",
            " dense (Dense)               (None, 6272)              809088    \n",
            "                                                                 \n",
            " leaky_re_lu (LeakyReLU)     (None, 6272)              0         \n",
            "                                                                 \n",
            " reshape (Reshape)           (None, 7, 7, 128)         0         \n",
            "                                                                 \n",
            " up_sampling2d (UpSampling2D  (None, 14, 14, 128)      0         \n",
            " )                                                               \n",
            "                                                                 \n",
            " conv2d (Conv2D)             (None, 14, 14, 128)       409728    \n",
            "                                                                 \n",
            " leaky_re_lu_1 (LeakyReLU)   (None, 14, 14, 128)       0         \n",
            "                                                                 \n",
            " up_sampling2d_1 (UpSampling  (None, 28, 28, 128)      0         \n",
            " 2D)                                                             \n",
            "                                                                 \n",
            " conv2d_1 (Conv2D)           (None, 28, 28, 128)       409728    \n",
            "                                                                 \n",
            " leaky_re_lu_2 (LeakyReLU)   (None, 28, 28, 128)       0         \n",
            "                                                                 \n",
            " conv2d_2 (Conv2D)           (None, 28, 28, 128)       262272    \n",
            "                                                                 \n",
            " leaky_re_lu_3 (LeakyReLU)   (None, 28, 28, 128)       0         \n",
            "                                                                 \n",
            " conv2d_3 (Conv2D)           (None, 28, 28, 128)       262272    \n",
            "                                                                 \n",
            " leaky_re_lu_4 (LeakyReLU)   (None, 28, 28, 128)       0         \n",
            "                                                                 \n",
            " conv2d_4 (Conv2D)           (None, 28, 28, 1)         2049      \n",
            "                                                                 \n",
            "=================================================================\n",
            "Total params: 2,155,137\n",
            "Trainable params: 2,155,137\n",
            "Non-trainable params: 0\n",
            "_________________________________________________________________\n"
          ]
        }
      ]
    },
    {
      "cell_type": "code",
      "source": [
        "img = generator.predict(np.random.randn(4,128,1))"
      ],
      "metadata": {
        "id": "uil68RCrAbf4",
        "colab": {
          "base_uri": "https://localhost:8080/"
        },
        "outputId": "c6af5766-c509-4918-ce05-7e8bade255e5"
      },
      "execution_count": null,
      "outputs": [
        {
          "output_type": "stream",
          "name": "stdout",
          "text": [
            "1/1 [==============================] - 2s 2s/step\n"
          ]
        }
      ]
    },
    {
      "cell_type": "code",
      "source": [
        "unprocess_array(img[0, :, :, 0])"
      ],
      "metadata": {
        "id": "rdnBajzYBxb6",
        "colab": {
          "base_uri": "https://localhost:8080/",
          "height": 45
        },
        "outputId": "40e614ec-6c67-46d0-d883-00ba1d4bbd41"
      },
      "execution_count": null,
      "outputs": [
        {
          "output_type": "execute_result",
          "data": {
            "text/plain": [
              "<PIL.Image.Image image mode=L size=28x28 at 0x7FDBE005C970>"
            ],
            "image/png": "[encoded data removed]"
          },
          "metadata": {},
          "execution_count": 20
        }
      ]
    },
    {
      "cell_type": "markdown",
      "source": [
        "## Building discriminator"
      ],
      "metadata": {
        "id": "6h8K7FuiEYOZ"
      }
    },
    {
      "cell_type": "code",
      "source": [
        "def build_discriminator(): \n",
        "    model = Sequential()\n",
        "    \n",
        "    # First Conv Block\n",
        "    model.add(Conv2D(32, 5, input_shape = (28,28,1)))\n",
        "    model.add(LeakyReLU(0.2))\n",
        "    model.add(Dropout(0.4))\n",
        "    \n",
        "    # Second Conv Block\n",
        "    model.add(Conv2D(64, 5))\n",
        "    model.add(LeakyReLU(0.2))\n",
        "    model.add(Dropout(0.4))\n",
        "    \n",
        "    # Third Conv Block\n",
        "    model.add(Conv2D(128, 5))\n",
        "    model.add(LeakyReLU(0.2))\n",
        "    model.add(Dropout(0.4))\n",
        "    \n",
        "    # Fourth Conv Block\n",
        "    model.add(Conv2D(256, 5))\n",
        "    model.add(LeakyReLU(0.2))\n",
        "    model.add(Dropout(0.4))\n",
        "    \n",
        "    # Flatten then pass to dense layer\n",
        "    model.add(Flatten())\n",
        "    model.add(Dropout(0.4))\n",
        "    model.add(Dense(1, activation='sigmoid'))\n",
        "    \n",
        "    return model "
      ],
      "metadata": {
        "id": "N_3p6SRAB6TP"
      },
      "execution_count": null,
      "outputs": []
    },
    {
      "cell_type": "code",
      "source": [
        "discriminator = build_discriminator()"
      ],
      "metadata": {
        "id": "MexQZeGvEfXI"
      },
      "execution_count": null,
      "outputs": []
    },
    {
      "cell_type": "code",
      "source": [
        "discriminator.summary()"
      ],
      "metadata": {
        "id": "dwkyhlFlEgac",
        "colab": {
          "base_uri": "https://localhost:8080/"
        },
        "outputId": "76333577-715a-46b6-ee81-4642d6f24f45"
      },
      "execution_count": null,
      "outputs": [
        {
          "output_type": "stream",
          "name": "stdout",
          "text": [
            "Model: \"sequential_1\"\n",
            "_________________________________________________________________\n",
            " Layer (type)                Output Shape              Param #   \n",
            "=================================================================\n",
            " conv2d_5 (Conv2D)           (None, 24, 24, 32)        832       \n",
            "                                                                 \n",
            " leaky_re_lu_5 (LeakyReLU)   (None, 24, 24, 32)        0         \n",
            "                                                                 \n",
            " dropout (Dropout)           (None, 24, 24, 32)        0         \n",
            "                                                                 \n",
            " conv2d_6 (Conv2D)           (None, 20, 20, 64)        51264     \n",
            "                                                                 \n",
            " leaky_re_lu_6 (LeakyReLU)   (None, 20, 20, 64)        0         \n",
            "                                                                 \n",
            " dropout_1 (Dropout)         (None, 20, 20, 64)        0         \n",
            "                                                                 \n",
            " conv2d_7 (Conv2D)           (None, 16, 16, 128)       204928    \n",
            "                                                                 \n",
            " leaky_re_lu_7 (LeakyReLU)   (None, 16, 16, 128)       0         \n",
            "                                                                 \n",
            " dropout_2 (Dropout)         (None, 16, 16, 128)       0         \n",
            "                                                                 \n",
            " conv2d_8 (Conv2D)           (None, 12, 12, 256)       819456    \n",
            "                                                                 \n",
            " leaky_re_lu_8 (LeakyReLU)   (None, 12, 12, 256)       0         \n",
            "                                                                 \n",
            " dropout_3 (Dropout)         (None, 12, 12, 256)       0         \n",
            "                                                                 \n",
            " flatten (Flatten)           (None, 36864)             0         \n",
            "                                                                 \n",
            " dropout_4 (Dropout)         (None, 36864)             0         \n",
            "                                                                 \n",
            " dense_1 (Dense)             (None, 1)                 36865     \n",
            "                                                                 \n",
            "=================================================================\n",
            "Total params: 1,113,345\n",
            "Trainable params: 1,113,345\n",
            "Non-trainable params: 0\n",
            "_________________________________________________________________\n"
          ]
        }
      ]
    },
    {
      "cell_type": "code",
      "source": [
        "discriminator.predict(img)"
      ],
      "metadata": {
        "id": "6MF1ilT8Eh0Q",
        "colab": {
          "base_uri": "https://localhost:8080/"
        },
        "outputId": "e81c05a9-bdbd-4965-a7a5-47a1a8fac992"
      },
      "execution_count": null,
      "outputs": [
        {
          "output_type": "stream",
          "name": "stdout",
          "text": [
            "1/1 [==============================] - 0s 104ms/step\n"
          ]
        },
        {
          "output_type": "execute_result",
          "data": {
            "text/plain": [
              "array([[0.4928986 ],\n",
              "       [0.49278188],\n",
              "       [0.49273473],\n",
              "       [0.49281856]], dtype=float32)"
            ]
          },
          "metadata": {},
          "execution_count": 24
        }
      ]
    },
    {
      "cell_type": "markdown",
      "source": [
        "# Training GAN"
      ],
      "metadata": {
        "id": "MrgGsTVUEps5"
      }
    },
    {
      "cell_type": "markdown",
      "source": [
        "## Preparing"
      ],
      "metadata": {
        "id": "x_lI-JGZdZCa"
      }
    },
    {
      "cell_type": "code",
      "source": [
        "# Adam is going to be the optimizer for both\n",
        "from tensorflow.keras.optimizers import Adam\n",
        "# Binary cross entropy is going to be the loss for both \n",
        "from tensorflow.keras.losses import BinaryCrossentropy"
      ],
      "metadata": {
        "id": "AkPKcXm9Er2F"
      },
      "execution_count": null,
      "outputs": []
    },
    {
      "cell_type": "code",
      "source": [
        "g_opt = Adam(learning_rate=0.0001) \n",
        "d_opt = Adam(learning_rate=0.00001) \n",
        "g_loss = BinaryCrossentropy()\n",
        "d_loss = BinaryCrossentropy()"
      ],
      "metadata": {
        "id": "0l15ajkqEtvw"
      },
      "execution_count": null,
      "outputs": []
    },
    {
      "cell_type": "code",
      "source": [
        "# Importing the base model class to subclass our training step \n",
        "from tensorflow.keras.models import Model"
      ],
      "metadata": {
        "id": "D5OeE0l7Evcm"
      },
      "execution_count": null,
      "outputs": []
    },
    {
      "cell_type": "code",
      "source": [
        "class GAN(Model): \n",
        "    def __init__(self, generator, discriminator, *args, **kwargs):\n",
        "        # Pass through args and kwargs to base class \n",
        "        super().__init__(*args, **kwargs)\n",
        "        \n",
        "        # Create attributes for gen and disc\n",
        "        self.generator = generator \n",
        "        self.discriminator = discriminator \n",
        "        \n",
        "    def compile(self, g_opt, d_opt, g_loss, d_loss, *args, **kwargs): \n",
        "        # Compile with base class\n",
        "        super().compile(*args, **kwargs)\n",
        "        \n",
        "        # Create attributes for losses and optimizers\n",
        "        self.g_opt = g_opt\n",
        "        self.d_opt = d_opt\n",
        "        self.g_loss = g_loss\n",
        "        self.d_loss = d_loss \n",
        "\n",
        "    def train_step(self, batch):\n",
        "        # Get the data \n",
        "        real_images = batch\n",
        "        fake_images = self.generator(tf.random.normal((128, 128, 1)), training=False)\n",
        "        \n",
        "        # Train the discriminator\n",
        "        with tf.GradientTape() as d_tape: \n",
        "            # Pass the real and fake images to the discriminator model\n",
        "            yhat_real = self.discriminator(real_images, training=True) \n",
        "            yhat_fake = self.discriminator(fake_images, training=True)\n",
        "            yhat_realfake = tf.concat([yhat_real, yhat_fake], axis=0)\n",
        "            \n",
        "            # Create labels for real and fakes images\n",
        "            y_realfake = tf.concat([tf.zeros_like(yhat_real), tf.ones_like(yhat_fake)], axis=0)\n",
        "            \n",
        "            # Add some noise to the TRUE outputs\n",
        "            noise_real = 0.15*tf.random.uniform(tf.shape(yhat_real))\n",
        "            noise_fake = -0.15*tf.random.uniform(tf.shape(yhat_fake))\n",
        "            y_realfake += tf.concat([noise_real, noise_fake], axis=0)\n",
        "            \n",
        "            # Calculate loss - BINARYCROSS \n",
        "            total_d_loss = self.d_loss(y_realfake, yhat_realfake)\n",
        "            \n",
        "        # Apply backpropagation - nn learn \n",
        "        dgrad = d_tape.gradient(total_d_loss, self.discriminator.trainable_variables) \n",
        "        self.d_opt.apply_gradients(zip(dgrad, self.discriminator.trainable_variables))\n",
        "        \n",
        "        # Train the generator \n",
        "        with tf.GradientTape() as g_tape: \n",
        "            # Generate some new images\n",
        "            gen_images = self.generator(tf.random.normal((128,128,1)), training=True)\n",
        "                                        \n",
        "            # Create the predicted labels\n",
        "            predicted_labels = self.discriminator(gen_images, training=False)\n",
        "                                        \n",
        "            # Calculate loss - trick to training to fake out the discriminator\n",
        "            total_g_loss = self.g_loss(tf.zeros_like(predicted_labels), predicted_labels) \n",
        "            \n",
        "        # Apply backprop\n",
        "        ggrad = g_tape.gradient(total_g_loss, self.generator.trainable_variables)\n",
        "        self.g_opt.apply_gradients(zip(ggrad, self.generator.trainable_variables))\n",
        "        \n",
        "        return {\"d_loss\":total_d_loss, \"g_loss\":total_g_loss}"
      ],
      "metadata": {
        "id": "9vqrTamBEwlN"
      },
      "execution_count": null,
      "outputs": []
    },
    {
      "cell_type": "code",
      "source": [
        "# Create instance of subclassed model\n",
        "gan = GAN(generator, discriminator)"
      ],
      "metadata": {
        "id": "MiAiub1tE4wP"
      },
      "execution_count": null,
      "outputs": []
    },
    {
      "cell_type": "code",
      "source": [
        "# Compile the model\n",
        "gan.compile(g_opt, d_opt, g_loss, d_loss)"
      ],
      "metadata": {
        "id": "lqGXpFlIE664"
      },
      "execution_count": null,
      "outputs": []
    },
    {
      "cell_type": "code",
      "source": [
        "import os\n",
        "from tensorflow.keras.preprocessing.image import array_to_img\n",
        "from tensorflow.keras.callbacks import Callback"
      ],
      "metadata": {
        "id": "HzZJLhrUE74Y"
      },
      "execution_count": null,
      "outputs": []
    },
    {
      "cell_type": "code",
      "source": [
        "class ModelMonitor(Callback):\n",
        "    def __init__(self, num_img=3, latent_dim=128):\n",
        "        self.num_img = num_img\n",
        "        self.latent_dim = latent_dim\n",
        "\n",
        "    def on_epoch_end(self, epoch, logs=None):\n",
        "        random_latent_vectors = tf.random.uniform((self.num_img, self.latent_dim,1))\n",
        "        generated_images = self.model.generator(random_latent_vectors)\n",
        "        generated_images *= 255\n",
        "        generated_images.numpy()\n",
        "        for i in range(self.num_img):\n",
        "            img = array_to_img(generated_images[i])\n",
        "            img.save(os.path.join('images', f'generated_img_{epoch}_{i}.png'))"
      ],
      "metadata": {
        "id": "5PGmh7QIE-i1"
      },
      "execution_count": null,
      "outputs": []
    },
    {
      "cell_type": "code",
      "source": [
        "image_dir = 'images'\n",
        "\n",
        "if not os.path.exists(image_dir):\n",
        "    os.mkdir(image_dir)"
      ],
      "metadata": {
        "id": "3iiizxzIOYNf"
      },
      "execution_count": null,
      "outputs": []
    },
    {
      "cell_type": "markdown",
      "source": [
        "## Training"
      ],
      "metadata": {
        "id": "Rr7Duzg8dcoq"
      }
    },
    {
      "cell_type": "code",
      "source": [
        "# Recommend 2000 epochs\n",
        "history = gan.fit(dataset, epochs = 500, callbacks=[ModelMonitor()])"
      ],
      "metadata": {
        "id": "J1voe9l3FAei",
        "colab": {
          "base_uri": "https://localhost:8080/",
          "height": 1000
        },
        "outputId": "8f740015-1ac3-4a01-ef3a-6eb2a864828b"
      },
      "execution_count": null,
      "outputs": [
        {
          "output_type": "stream",
          "name": "stdout",
          "text": [
            "Epoch 1/1000\n",
            "196/196 [==============================] - 11s 30ms/step - d_loss: 0.6967 - g_loss: 0.7136\n",
            "Epoch 2/1000\n",
            "196/196 [==============================] - 6s 30ms/step - d_loss: 0.6922 - g_loss: 0.7205\n",
            "Epoch 3/1000\n",
            "196/196 [==============================] - 6s 29ms/step - d_loss: 0.6891 - g_loss: 0.7342\n",
            "Epoch 4/1000\n",
            "196/196 [==============================] - 6s 30ms/step - d_loss: 0.6890 - g_loss: 0.7474\n",
            "Epoch 5/1000\n",
            "196/196 [==============================] - 6s 29ms/step - d_loss: 0.6828 - g_loss: 0.7819\n",
            "Epoch 6/1000\n",
            "196/196 [==============================] - 6s 30ms/step - d_loss: 0.6460 - g_loss: 0.9794\n",
            "Epoch 7/1000\n",
            "196/196 [==============================] - 6s 29ms/step - d_loss: 0.5191 - g_loss: 2.0419\n",
            "Epoch 8/1000\n",
            "196/196 [==============================] - 6s 30ms/step - d_loss: 0.4002 - g_loss: 3.3617\n",
            "Epoch 9/1000\n",
            "196/196 [==============================] - 6s 30ms/step - d_loss: 0.3614 - g_loss: 3.3587\n",
            "Epoch 10/1000\n",
            "196/196 [==============================] - 6s 30ms/step - d_loss: 0.3436 - g_loss: 3.1416\n",
            "Epoch 11/1000\n",
            "196/196 [==============================] - 6s 30ms/step - d_loss: 0.3322 - g_loss: 2.9672\n",
            "Epoch 12/1000\n",
            "196/196 [==============================] - 6s 30ms/step - d_loss: 0.3242 - g_loss: 2.8087\n",
            "Epoch 13/1000\n",
            "196/196 [==============================] - 6s 30ms/step - d_loss: 0.3174 - g_loss: 2.6761\n",
            "Epoch 14/1000\n",
            "196/196 [==============================] - 6s 30ms/step - d_loss: 0.3108 - g_loss: 2.5690\n",
            "Epoch 15/1000\n",
            "196/196 [==============================] - 6s 29ms/step - d_loss: 0.3046 - g_loss: 2.5513\n",
            "Epoch 16/1000\n",
            "196/196 [==============================] - 6s 30ms/step - d_loss: 0.2994 - g_loss: 2.5798\n",
            "Epoch 17/1000\n",
            "196/196 [==============================] - 6s 30ms/step - d_loss: 0.2945 - g_loss: 2.5855\n",
            "Epoch 18/1000\n",
            "196/196 [==============================] - 6s 30ms/step - d_loss: 0.2912 - g_loss: 2.6252\n",
            "Epoch 19/1000\n",
            "196/196 [==============================] - 6s 29ms/step - d_loss: 0.2889 - g_loss: 2.6798\n",
            "Epoch 20/1000\n",
            "196/196 [==============================] - 6s 30ms/step - d_loss: 0.2862 - g_loss: 2.8065\n",
            "Epoch 21/1000\n",
            "196/196 [==============================] - 6s 29ms/step - d_loss: 0.2848 - g_loss: 2.9289\n",
            "Epoch 22/1000\n",
            "196/196 [==============================] - 6s 30ms/step - d_loss: 0.2832 - g_loss: 3.0622\n",
            "Epoch 23/1000\n",
            "196/196 [==============================] - 6s 29ms/step - d_loss: 0.2814 - g_loss: 3.1501\n",
            "Epoch 24/1000\n",
            "196/196 [==============================] - 6s 29ms/step - d_loss: 0.2795 - g_loss: 3.2050\n",
            "Epoch 25/1000\n",
            "196/196 [==============================] - 6s 29ms/step - d_loss: 0.2777 - g_loss: 3.2445\n",
            "Epoch 26/1000\n",
            "196/196 [==============================] - 6s 29ms/step - d_loss: 0.2776 - g_loss: 3.2744\n",
            "Epoch 27/1000\n",
            "196/196 [==============================] - 6s 29ms/step - d_loss: 0.2764 - g_loss: 3.3045\n",
            "Epoch 28/1000\n",
            "196/196 [==============================] - 6s 29ms/step - d_loss: 0.2753 - g_loss: 3.3013\n",
            "Epoch 29/1000\n",
            "196/196 [==============================] - 6s 30ms/step - d_loss: 0.2741 - g_loss: 3.3032\n",
            "Epoch 30/1000\n",
            "196/196 [==============================] - 6s 29ms/step - d_loss: 0.2737 - g_loss: 3.3269\n",
            "Epoch 31/1000\n",
            "196/196 [==============================] - 6s 29ms/step - d_loss: 0.2735 - g_loss: 3.3180\n",
            "Epoch 32/1000\n",
            "196/196 [==============================] - 6s 29ms/step - d_loss: 0.2720 - g_loss: 3.2981\n",
            "Epoch 33/1000\n",
            "196/196 [==============================] - 6s 30ms/step - d_loss: 0.2717 - g_loss: 3.2729\n",
            "Epoch 34/1000\n",
            "196/196 [==============================] - 6s 29ms/step - d_loss: 0.2718 - g_loss: 3.2584\n",
            "Epoch 35/1000\n",
            "196/196 [==============================] - 6s 29ms/step - d_loss: 0.2706 - g_loss: 3.2612\n",
            "Epoch 36/1000\n",
            "196/196 [==============================] - 6s 29ms/step - d_loss: 0.2702 - g_loss: 3.2916\n",
            "Epoch 37/1000\n",
            "196/196 [==============================] - 6s 29ms/step - d_loss: 0.2693 - g_loss: 3.3004\n",
            "Epoch 38/1000\n",
            "196/196 [==============================] - 6s 29ms/step - d_loss: 0.2693 - g_loss: 3.3088\n",
            "Epoch 39/1000\n",
            "196/196 [==============================] - 6s 30ms/step - d_loss: 0.2698 - g_loss: 3.2896\n",
            "Epoch 40/1000\n",
            "196/196 [==============================] - 6s 30ms/step - d_loss: 0.2689 - g_loss: 3.2834\n",
            "Epoch 41/1000\n",
            "196/196 [==============================] - 6s 30ms/step - d_loss: 0.2688 - g_loss: 3.2576\n",
            "Epoch 42/1000\n",
            "196/196 [==============================] - 6s 29ms/step - d_loss: 0.2689 - g_loss: 3.2387\n",
            "Epoch 43/1000\n",
            "196/196 [==============================] - 6s 30ms/step - d_loss: 0.2693 - g_loss: 3.2291\n",
            "Epoch 44/1000\n",
            "196/196 [==============================] - 6s 29ms/step - d_loss: 0.2692 - g_loss: 3.2159\n",
            "Epoch 45/1000\n",
            "196/196 [==============================] - 6s 30ms/step - d_loss: 0.2685 - g_loss: 3.2071\n",
            "Epoch 46/1000\n",
            "196/196 [==============================] - 6s 30ms/step - d_loss: 0.2691 - g_loss: 3.1891\n",
            "Epoch 47/1000\n",
            "196/196 [==============================] - 6s 30ms/step - d_loss: 0.2686 - g_loss: 3.1723\n",
            "Epoch 48/1000\n",
            "196/196 [==============================] - 6s 30ms/step - d_loss: 0.2683 - g_loss: 3.1687\n",
            "Epoch 49/1000\n",
            "196/196 [==============================] - 6s 30ms/step - d_loss: 0.2679 - g_loss: 3.1590\n",
            "Epoch 50/1000\n",
            "196/196 [==============================] - 6s 30ms/step - d_loss: 0.2673 - g_loss: 3.1477\n",
            "Epoch 51/1000\n",
            "196/196 [==============================] - 6s 30ms/step - d_loss: 0.2678 - g_loss: 3.1318\n",
            "Epoch 52/1000\n",
            "196/196 [==============================] - 6s 30ms/step - d_loss: 0.2676 - g_loss: 3.1245\n",
            "Epoch 53/1000\n",
            "196/196 [==============================] - 6s 30ms/step - d_loss: 0.2673 - g_loss: 3.1049\n",
            "Epoch 54/1000\n",
            "196/196 [==============================] - 6s 29ms/step - d_loss: 0.2680 - g_loss: 3.0949\n",
            "Epoch 55/1000\n",
            "196/196 [==============================] - 6s 29ms/step - d_loss: 0.2670 - g_loss: 3.0773\n",
            "Epoch 56/1000\n",
            "196/196 [==============================] - 6s 29ms/step - d_loss: 0.2678 - g_loss: 3.0522\n",
            "Epoch 57/1000\n",
            "196/196 [==============================] - 6s 30ms/step - d_loss: 0.2676 - g_loss: 3.0552\n",
            "Epoch 58/1000\n",
            "196/196 [==============================] - 6s 29ms/step - d_loss: 0.2680 - g_loss: 3.0275\n",
            "Epoch 59/1000\n",
            "196/196 [==============================] - 6s 29ms/step - d_loss: 0.2687 - g_loss: 3.0058\n",
            "Epoch 60/1000\n",
            "196/196 [==============================] - 6s 30ms/step - d_loss: 0.2680 - g_loss: 2.9821\n",
            "Epoch 61/1000\n",
            "196/196 [==============================] - 6s 29ms/step - d_loss: 0.2677 - g_loss: 2.9721\n",
            "Epoch 62/1000\n",
            "196/196 [==============================] - 6s 29ms/step - d_loss: 0.2680 - g_loss: 2.9474\n",
            "Epoch 63/1000\n",
            "196/196 [==============================] - 6s 29ms/step - d_loss: 0.2679 - g_loss: 2.9626\n",
            "Epoch 64/1000\n",
            "196/196 [==============================] - 6s 29ms/step - d_loss: 0.2675 - g_loss: 2.9649\n",
            "Epoch 65/1000\n",
            "196/196 [==============================] - 6s 29ms/step - d_loss: 0.2664 - g_loss: 2.9616\n",
            "Epoch 66/1000\n",
            "196/196 [==============================] - 6s 29ms/step - d_loss: 0.2679 - g_loss: 2.9461\n",
            "Epoch 67/1000\n",
            "196/196 [==============================] - 6s 30ms/step - d_loss: 0.2674 - g_loss: 2.9320\n",
            "Epoch 68/1000\n",
            "196/196 [==============================] - 6s 30ms/step - d_loss: 0.2676 - g_loss: 2.9287\n",
            "Epoch 69/1000\n",
            "196/196 [==============================] - 6s 29ms/step - d_loss: 0.2668 - g_loss: 2.9171\n",
            "Epoch 70/1000\n",
            "196/196 [==============================] - 6s 29ms/step - d_loss: 0.2670 - g_loss: 2.9088\n",
            "Epoch 71/1000\n",
            "196/196 [==============================] - 6s 30ms/step - d_loss: 0.2681 - g_loss: 2.8874\n",
            "Epoch 72/1000\n",
            "196/196 [==============================] - 6s 29ms/step - d_loss: 0.2673 - g_loss: 2.8764\n",
            "Epoch 73/1000\n",
            "196/196 [==============================] - 6s 29ms/step - d_loss: 0.2672 - g_loss: 2.8747\n",
            "Epoch 74/1000\n",
            "196/196 [==============================] - 6s 30ms/step - d_loss: 0.2682 - g_loss: 2.8718\n",
            "Epoch 75/1000\n",
            "196/196 [==============================] - 6s 30ms/step - d_loss: 0.2675 - g_loss: 2.8635\n",
            "Epoch 76/1000\n",
            "196/196 [==============================] - 6s 30ms/step - d_loss: 0.2677 - g_loss: 2.8398\n",
            "Epoch 77/1000\n",
            "196/196 [==============================] - 6s 30ms/step - d_loss: 0.2673 - g_loss: 2.8280\n",
            "Epoch 78/1000\n",
            "196/196 [==============================] - 6s 29ms/step - d_loss: 0.2670 - g_loss: 2.8324\n",
            "Epoch 79/1000\n",
            "196/196 [==============================] - 6s 30ms/step - d_loss: 0.2668 - g_loss: 2.8391\n",
            "Epoch 80/1000\n",
            "196/196 [==============================] - 6s 30ms/step - d_loss: 0.2668 - g_loss: 2.8358\n",
            "Epoch 81/1000\n",
            "196/196 [==============================] - 6s 29ms/step - d_loss: 0.2667 - g_loss: 2.8121\n",
            "Epoch 82/1000\n",
            "196/196 [==============================] - 6s 29ms/step - d_loss: 0.2667 - g_loss: 2.8078\n",
            "Epoch 83/1000\n",
            "196/196 [==============================] - 6s 30ms/step - d_loss: 0.2672 - g_loss: 2.8095\n",
            "Epoch 84/1000\n",
            "196/196 [==============================] - 6s 30ms/step - d_loss: 0.2670 - g_loss: 2.7961\n",
            "Epoch 85/1000\n",
            "196/196 [==============================] - 6s 29ms/step - d_loss: 0.2670 - g_loss: 2.8075\n",
            "Epoch 86/1000\n",
            "196/196 [==============================] - 6s 29ms/step - d_loss: 0.2667 - g_loss: 2.7980\n",
            "Epoch 87/1000\n",
            "196/196 [==============================] - 6s 30ms/step - d_loss: 0.2672 - g_loss: 2.7970\n",
            "Epoch 88/1000\n",
            "196/196 [==============================] - 6s 29ms/step - d_loss: 0.2671 - g_loss: 2.7844\n",
            "Epoch 89/1000\n",
            "196/196 [==============================] - 6s 30ms/step - d_loss: 0.2673 - g_loss: 2.7784\n",
            "Epoch 90/1000\n",
            "196/196 [==============================] - 6s 29ms/step - d_loss: 0.2681 - g_loss: 2.7603\n",
            "Epoch 91/1000\n",
            "196/196 [==============================] - 6s 30ms/step - d_loss: 0.2667 - g_loss: 2.7613\n",
            "Epoch 92/1000\n",
            "196/196 [==============================] - 6s 29ms/step - d_loss: 0.2673 - g_loss: 2.7614\n",
            "Epoch 93/1000\n",
            "196/196 [==============================] - 6s 29ms/step - d_loss: 0.2661 - g_loss: 2.7706\n",
            "Epoch 94/1000\n",
            "196/196 [==============================] - 6s 29ms/step - d_loss: 0.2675 - g_loss: 2.7550\n",
            "Epoch 95/1000\n",
            "196/196 [==============================] - 6s 30ms/step - d_loss: 0.2670 - g_loss: 2.7387\n",
            "Epoch 96/1000\n",
            "196/196 [==============================] - 6s 29ms/step - d_loss: 0.2663 - g_loss: 2.7378\n",
            "Epoch 97/1000\n",
            "196/196 [==============================] - 6s 29ms/step - d_loss: 0.2668 - g_loss: 2.7259\n",
            "Epoch 98/1000\n",
            "196/196 [==============================] - 6s 30ms/step - d_loss: 0.2662 - g_loss: 2.7311\n",
            "Epoch 99/1000\n",
            "196/196 [==============================] - 6s 30ms/step - d_loss: 0.2667 - g_loss: 2.7146\n",
            "Epoch 100/1000\n",
            "196/196 [==============================] - 6s 29ms/step - d_loss: 0.2679 - g_loss: 2.7104\n",
            "Epoch 101/1000\n",
            "196/196 [==============================] - 6s 29ms/step - d_loss: 0.2660 - g_loss: 2.7162\n",
            "Epoch 102/1000\n",
            "196/196 [==============================] - 6s 29ms/step - d_loss: 0.2677 - g_loss: 2.7055\n",
            "Epoch 103/1000\n",
            "196/196 [==============================] - 6s 30ms/step - d_loss: 0.2672 - g_loss: 2.7125\n",
            "Epoch 104/1000\n",
            "196/196 [==============================] - 6s 29ms/step - d_loss: 0.2667 - g_loss: 2.7241\n",
            "Epoch 105/1000\n",
            "196/196 [==============================] - 6s 29ms/step - d_loss: 0.2671 - g_loss: 2.7159\n",
            "Epoch 106/1000\n",
            "196/196 [==============================] - 6s 30ms/step - d_loss: 0.2668 - g_loss: 2.7131\n",
            "Epoch 107/1000\n",
            "196/196 [==============================] - 6s 30ms/step - d_loss: 0.2657 - g_loss: 2.7198\n",
            "Epoch 108/1000\n",
            "196/196 [==============================] - 6s 30ms/step - d_loss: 0.2661 - g_loss: 2.7177\n",
            "Epoch 109/1000\n",
            "196/196 [==============================] - 6s 30ms/step - d_loss: 0.2667 - g_loss: 2.6992\n",
            "Epoch 110/1000\n",
            "196/196 [==============================] - 6s 30ms/step - d_loss: 0.2668 - g_loss: 2.6930\n",
            "Epoch 111/1000\n",
            "196/196 [==============================] - 6s 30ms/step - d_loss: 0.2669 - g_loss: 2.6908\n",
            "Epoch 112/1000\n",
            "196/196 [==============================] - 6s 30ms/step - d_loss: 0.2669 - g_loss: 2.6907\n",
            "Epoch 113/1000\n",
            "196/196 [==============================] - 6s 30ms/step - d_loss: 0.2666 - g_loss: 2.6879\n",
            "Epoch 114/1000\n",
            "196/196 [==============================] - 6s 30ms/step - d_loss: 0.2665 - g_loss: 2.6838\n",
            "Epoch 115/1000\n",
            "196/196 [==============================] - 6s 29ms/step - d_loss: 0.2671 - g_loss: 2.6727\n",
            "Epoch 116/1000\n",
            "196/196 [==============================] - 6s 30ms/step - d_loss: 0.2669 - g_loss: 2.6735\n",
            "Epoch 117/1000\n",
            "196/196 [==============================] - 6s 29ms/step - d_loss: 0.2664 - g_loss: 2.6798\n",
            "Epoch 118/1000\n",
            "196/196 [==============================] - 6s 30ms/step - d_loss: 0.2673 - g_loss: 2.6624\n",
            "Epoch 119/1000\n",
            "196/196 [==============================] - 6s 29ms/step - d_loss: 0.2670 - g_loss: 2.6676\n",
            "Epoch 120/1000\n",
            "196/196 [==============================] - 6s 29ms/step - d_loss: 0.2674 - g_loss: 2.6654\n",
            "Epoch 121/1000\n",
            "196/196 [==============================] - 6s 30ms/step - d_loss: 0.2666 - g_loss: 2.6740\n",
            "Epoch 122/1000\n",
            "196/196 [==============================] - 6s 29ms/step - d_loss: 0.2665 - g_loss: 2.6670\n",
            "Epoch 123/1000\n",
            "196/196 [==============================] - 6s 29ms/step - d_loss: 0.2658 - g_loss: 2.6680\n",
            "Epoch 124/1000\n",
            "196/196 [==============================] - 6s 30ms/step - d_loss: 0.2667 - g_loss: 2.6518\n",
            "Epoch 125/1000\n",
            "196/196 [==============================] - 6s 29ms/step - d_loss: 0.2669 - g_loss: 2.6658\n",
            "Epoch 126/1000\n",
            "196/196 [==============================] - 6s 30ms/step - d_loss: 0.2665 - g_loss: 2.6742\n",
            "Epoch 127/1000\n",
            "147/196 [=====================>........] - ETA: 1s - d_loss: 0.2676 - g_loss: 2.6526"
          ]
        },
        {
          "output_type": "error",
          "ename": "KeyboardInterrupt",
          "evalue": "ignored",
          "traceback": [
            "\u001b[0;31m---------------------------------------------------------------------------\u001b[0m",
            "\u001b[0;31mKeyboardInterrupt\u001b[0m                         Traceback (most recent call last)",
            "\u001b[0;32m<ipython-input-34-c00a5be9f79d>\u001b[0m in \u001b[0;36m<module>\u001b[0;34m\u001b[0m\n\u001b[1;32m      1\u001b[0m \u001b[0;31m# Recommend 2000 epochs\u001b[0m\u001b[0;34m\u001b[0m\u001b[0;34m\u001b[0m\u001b[0m\n\u001b[0;32m----> 2\u001b[0;31m \u001b[0mhistory\u001b[0m \u001b[0;34m=\u001b[0m \u001b[0mgan\u001b[0m\u001b[0;34m.\u001b[0m\u001b[0mfit\u001b[0m\u001b[0;34m(\u001b[0m\u001b[0mdataset\u001b[0m\u001b[0;34m,\u001b[0m \u001b[0mepochs\u001b[0m \u001b[0;34m=\u001b[0m \u001b[0;36m1000\u001b[0m\u001b[0;34m,\u001b[0m \u001b[0mcallbacks\u001b[0m\u001b[0;34m=\u001b[0m\u001b[0;34m[\u001b[0m\u001b[0mModelMonitor\u001b[0m\u001b[0;34m(\u001b[0m\u001b[0;34m)\u001b[0m\u001b[0;34m]\u001b[0m\u001b[0;34m)\u001b[0m\u001b[0;34m\u001b[0m\u001b[0;34m\u001b[0m\u001b[0m\n\u001b[0m",
            "\u001b[0;32m/usr/local/lib/python3.9/dist-packages/keras/utils/traceback_utils.py\u001b[0m in \u001b[0;36merror_handler\u001b[0;34m(*args, **kwargs)\u001b[0m\n\u001b[1;32m     63\u001b[0m         \u001b[0mfiltered_tb\u001b[0m \u001b[0;34m=\u001b[0m \u001b[0;32mNone\u001b[0m\u001b[0;34m\u001b[0m\u001b[0;34m\u001b[0m\u001b[0m\n\u001b[1;32m     64\u001b[0m         \u001b[0;32mtry\u001b[0m\u001b[0;34m:\u001b[0m\u001b[0;34m\u001b[0m\u001b[0;34m\u001b[0m\u001b[0m\n\u001b[0;32m---> 65\u001b[0;31m             \u001b[0;32mreturn\u001b[0m \u001b[0mfn\u001b[0m\u001b[0;34m(\u001b[0m\u001b[0;34m*\u001b[0m\u001b[0margs\u001b[0m\u001b[0;34m,\u001b[0m \u001b[0;34m**\u001b[0m\u001b[0mkwargs\u001b[0m\u001b[0;34m)\u001b[0m\u001b[0;34m\u001b[0m\u001b[0;34m\u001b[0m\u001b[0m\n\u001b[0m\u001b[1;32m     66\u001b[0m         \u001b[0;32mexcept\u001b[0m \u001b[0mException\u001b[0m \u001b[0;32mas\u001b[0m \u001b[0me\u001b[0m\u001b[0;34m:\u001b[0m\u001b[0;34m\u001b[0m\u001b[0;34m\u001b[0m\u001b[0m\n\u001b[1;32m     67\u001b[0m             \u001b[0mfiltered_tb\u001b[0m \u001b[0;34m=\u001b[0m \u001b[0m_process_traceback_frames\u001b[0m\u001b[0;34m(\u001b[0m\u001b[0me\u001b[0m\u001b[0;34m.\u001b[0m\u001b[0m__traceback__\u001b[0m\u001b[0;34m)\u001b[0m\u001b[0;34m\u001b[0m\u001b[0;34m\u001b[0m\u001b[0m\n",
            "\u001b[0;32m/usr/local/lib/python3.9/dist-packages/keras/engine/training.py\u001b[0m in \u001b[0;36mfit\u001b[0;34m(self, x, y, batch_size, epochs, verbose, callbacks, validation_split, validation_data, shuffle, class_weight, sample_weight, initial_epoch, steps_per_epoch, validation_steps, validation_batch_size, validation_freq, max_queue_size, workers, use_multiprocessing)\u001b[0m\n\u001b[1;32m   1654\u001b[0m                             \u001b[0mlogs\u001b[0m \u001b[0;34m=\u001b[0m \u001b[0mtmp_logs\u001b[0m\u001b[0;34m\u001b[0m\u001b[0;34m\u001b[0m\u001b[0m\n\u001b[1;32m   1655\u001b[0m                             \u001b[0mend_step\u001b[0m \u001b[0;34m=\u001b[0m \u001b[0mstep\u001b[0m \u001b[0;34m+\u001b[0m \u001b[0mdata_handler\u001b[0m\u001b[0;34m.\u001b[0m\u001b[0mstep_increment\u001b[0m\u001b[0;34m\u001b[0m\u001b[0;34m\u001b[0m\u001b[0m\n\u001b[0;32m-> 1656\u001b[0;31m                             \u001b[0mcallbacks\u001b[0m\u001b[0;34m.\u001b[0m\u001b[0mon_train_batch_end\u001b[0m\u001b[0;34m(\u001b[0m\u001b[0mend_step\u001b[0m\u001b[0;34m,\u001b[0m \u001b[0mlogs\u001b[0m\u001b[0;34m)\u001b[0m\u001b[0;34m\u001b[0m\u001b[0;34m\u001b[0m\u001b[0m\n\u001b[0m\u001b[1;32m   1657\u001b[0m                             \u001b[0;32mif\u001b[0m \u001b[0mself\u001b[0m\u001b[0;34m.\u001b[0m\u001b[0mstop_training\u001b[0m\u001b[0;34m:\u001b[0m\u001b[0;34m\u001b[0m\u001b[0;34m\u001b[0m\u001b[0m\n\u001b[1;32m   1658\u001b[0m                                 \u001b[0;32mbreak\u001b[0m\u001b[0;34m\u001b[0m\u001b[0;34m\u001b[0m\u001b[0m\n",
            "\u001b[0;32m/usr/local/lib/python3.9/dist-packages/keras/callbacks.py\u001b[0m in \u001b[0;36mon_train_batch_end\u001b[0;34m(self, batch, logs)\u001b[0m\n\u001b[1;32m    474\u001b[0m         \"\"\"\n\u001b[1;32m    475\u001b[0m         \u001b[0;32mif\u001b[0m \u001b[0mself\u001b[0m\u001b[0;34m.\u001b[0m\u001b[0m_should_call_train_batch_hooks\u001b[0m\u001b[0;34m:\u001b[0m\u001b[0;34m\u001b[0m\u001b[0;34m\u001b[0m\u001b[0m\n\u001b[0;32m--> 476\u001b[0;31m             \u001b[0mself\u001b[0m\u001b[0;34m.\u001b[0m\u001b[0m_call_batch_hook\u001b[0m\u001b[0;34m(\u001b[0m\u001b[0mModeKeys\u001b[0m\u001b[0;34m.\u001b[0m\u001b[0mTRAIN\u001b[0m\u001b[0;34m,\u001b[0m \u001b[0;34m\"end\"\u001b[0m\u001b[0;34m,\u001b[0m \u001b[0mbatch\u001b[0m\u001b[0;34m,\u001b[0m \u001b[0mlogs\u001b[0m\u001b[0;34m=\u001b[0m\u001b[0mlogs\u001b[0m\u001b[0;34m)\u001b[0m\u001b[0;34m\u001b[0m\u001b[0;34m\u001b[0m\u001b[0m\n\u001b[0m\u001b[1;32m    477\u001b[0m \u001b[0;34m\u001b[0m\u001b[0m\n\u001b[1;32m    478\u001b[0m     \u001b[0;32mdef\u001b[0m \u001b[0mon_test_batch_begin\u001b[0m\u001b[0;34m(\u001b[0m\u001b[0mself\u001b[0m\u001b[0;34m,\u001b[0m \u001b[0mbatch\u001b[0m\u001b[0;34m,\u001b[0m \u001b[0mlogs\u001b[0m\u001b[0;34m=\u001b[0m\u001b[0;32mNone\u001b[0m\u001b[0;34m)\u001b[0m\u001b[0;34m:\u001b[0m\u001b[0;34m\u001b[0m\u001b[0;34m\u001b[0m\u001b[0m\n",
            "\u001b[0;32m/usr/local/lib/python3.9/dist-packages/keras/callbacks.py\u001b[0m in \u001b[0;36m_call_batch_hook\u001b[0;34m(self, mode, hook, batch, logs)\u001b[0m\n\u001b[1;32m    321\u001b[0m             \u001b[0mself\u001b[0m\u001b[0;34m.\u001b[0m\u001b[0m_call_batch_begin_hook\u001b[0m\u001b[0;34m(\u001b[0m\u001b[0mmode\u001b[0m\u001b[0;34m,\u001b[0m \u001b[0mbatch\u001b[0m\u001b[0;34m,\u001b[0m \u001b[0mlogs\u001b[0m\u001b[0;34m)\u001b[0m\u001b[0;34m\u001b[0m\u001b[0;34m\u001b[0m\u001b[0m\n\u001b[1;32m    322\u001b[0m         \u001b[0;32melif\u001b[0m \u001b[0mhook\u001b[0m \u001b[0;34m==\u001b[0m \u001b[0;34m\"end\"\u001b[0m\u001b[0;34m:\u001b[0m\u001b[0;34m\u001b[0m\u001b[0;34m\u001b[0m\u001b[0m\n\u001b[0;32m--> 323\u001b[0;31m             \u001b[0mself\u001b[0m\u001b[0;34m.\u001b[0m\u001b[0m_call_batch_end_hook\u001b[0m\u001b[0;34m(\u001b[0m\u001b[0mmode\u001b[0m\u001b[0;34m,\u001b[0m \u001b[0mbatch\u001b[0m\u001b[0;34m,\u001b[0m \u001b[0mlogs\u001b[0m\u001b[0;34m)\u001b[0m\u001b[0;34m\u001b[0m\u001b[0;34m\u001b[0m\u001b[0m\n\u001b[0m\u001b[1;32m    324\u001b[0m         \u001b[0;32melse\u001b[0m\u001b[0;34m:\u001b[0m\u001b[0;34m\u001b[0m\u001b[0;34m\u001b[0m\u001b[0m\n\u001b[1;32m    325\u001b[0m             raise ValueError(\n",
            "\u001b[0;32m/usr/local/lib/python3.9/dist-packages/keras/callbacks.py\u001b[0m in \u001b[0;36m_call_batch_end_hook\u001b[0;34m(self, mode, batch, logs)\u001b[0m\n\u001b[1;32m    344\u001b[0m             \u001b[0mself\u001b[0m\u001b[0;34m.\u001b[0m\u001b[0m_batch_times\u001b[0m\u001b[0;34m.\u001b[0m\u001b[0mappend\u001b[0m\u001b[0;34m(\u001b[0m\u001b[0mbatch_time\u001b[0m\u001b[0;34m)\u001b[0m\u001b[0;34m\u001b[0m\u001b[0;34m\u001b[0m\u001b[0m\n\u001b[1;32m    345\u001b[0m \u001b[0;34m\u001b[0m\u001b[0m\n\u001b[0;32m--> 346\u001b[0;31m         \u001b[0mself\u001b[0m\u001b[0;34m.\u001b[0m\u001b[0m_call_batch_hook_helper\u001b[0m\u001b[0;34m(\u001b[0m\u001b[0mhook_name\u001b[0m\u001b[0;34m,\u001b[0m \u001b[0mbatch\u001b[0m\u001b[0;34m,\u001b[0m \u001b[0mlogs\u001b[0m\u001b[0;34m)\u001b[0m\u001b[0;34m\u001b[0m\u001b[0;34m\u001b[0m\u001b[0m\n\u001b[0m\u001b[1;32m    347\u001b[0m \u001b[0;34m\u001b[0m\u001b[0m\n\u001b[1;32m    348\u001b[0m         \u001b[0;32mif\u001b[0m \u001b[0mlen\u001b[0m\u001b[0;34m(\u001b[0m\u001b[0mself\u001b[0m\u001b[0;34m.\u001b[0m\u001b[0m_batch_times\u001b[0m\u001b[0;34m)\u001b[0m \u001b[0;34m>=\u001b[0m \u001b[0mself\u001b[0m\u001b[0;34m.\u001b[0m\u001b[0m_num_batches_for_timing_check\u001b[0m\u001b[0;34m:\u001b[0m\u001b[0;34m\u001b[0m\u001b[0;34m\u001b[0m\u001b[0m\n",
            "\u001b[0;32m/usr/local/lib/python3.9/dist-packages/keras/callbacks.py\u001b[0m in \u001b[0;36m_call_batch_hook_helper\u001b[0;34m(self, hook_name, batch, logs)\u001b[0m\n\u001b[1;32m    392\u001b[0m         \u001b[0;32mfor\u001b[0m \u001b[0mcallback\u001b[0m \u001b[0;32min\u001b[0m \u001b[0mself\u001b[0m\u001b[0;34m.\u001b[0m\u001b[0mcallbacks\u001b[0m\u001b[0;34m:\u001b[0m\u001b[0;34m\u001b[0m\u001b[0;34m\u001b[0m\u001b[0m\n\u001b[1;32m    393\u001b[0m             \u001b[0mhook\u001b[0m \u001b[0;34m=\u001b[0m \u001b[0mgetattr\u001b[0m\u001b[0;34m(\u001b[0m\u001b[0mcallback\u001b[0m\u001b[0;34m,\u001b[0m \u001b[0mhook_name\u001b[0m\u001b[0;34m)\u001b[0m\u001b[0;34m\u001b[0m\u001b[0;34m\u001b[0m\u001b[0m\n\u001b[0;32m--> 394\u001b[0;31m             \u001b[0mhook\u001b[0m\u001b[0;34m(\u001b[0m\u001b[0mbatch\u001b[0m\u001b[0;34m,\u001b[0m \u001b[0mlogs\u001b[0m\u001b[0;34m)\u001b[0m\u001b[0;34m\u001b[0m\u001b[0;34m\u001b[0m\u001b[0m\n\u001b[0m\u001b[1;32m    395\u001b[0m \u001b[0;34m\u001b[0m\u001b[0m\n\u001b[1;32m    396\u001b[0m         \u001b[0;32mif\u001b[0m \u001b[0mself\u001b[0m\u001b[0;34m.\u001b[0m\u001b[0m_check_timing\u001b[0m\u001b[0;34m:\u001b[0m\u001b[0;34m\u001b[0m\u001b[0;34m\u001b[0m\u001b[0m\n",
            "\u001b[0;32m/usr/local/lib/python3.9/dist-packages/keras/callbacks.py\u001b[0m in \u001b[0;36mon_train_batch_end\u001b[0;34m(self, batch, logs)\u001b[0m\n\u001b[1;32m   1092\u001b[0m \u001b[0;34m\u001b[0m\u001b[0m\n\u001b[1;32m   1093\u001b[0m     \u001b[0;32mdef\u001b[0m \u001b[0mon_train_batch_end\u001b[0m\u001b[0;34m(\u001b[0m\u001b[0mself\u001b[0m\u001b[0;34m,\u001b[0m \u001b[0mbatch\u001b[0m\u001b[0;34m,\u001b[0m \u001b[0mlogs\u001b[0m\u001b[0;34m=\u001b[0m\u001b[0;32mNone\u001b[0m\u001b[0;34m)\u001b[0m\u001b[0;34m:\u001b[0m\u001b[0;34m\u001b[0m\u001b[0;34m\u001b[0m\u001b[0m\n\u001b[0;32m-> 1094\u001b[0;31m         \u001b[0mself\u001b[0m\u001b[0;34m.\u001b[0m\u001b[0m_batch_update_progbar\u001b[0m\u001b[0;34m(\u001b[0m\u001b[0mbatch\u001b[0m\u001b[0;34m,\u001b[0m \u001b[0mlogs\u001b[0m\u001b[0;34m)\u001b[0m\u001b[0;34m\u001b[0m\u001b[0;34m\u001b[0m\u001b[0m\n\u001b[0m\u001b[1;32m   1095\u001b[0m \u001b[0;34m\u001b[0m\u001b[0m\n\u001b[1;32m   1096\u001b[0m     \u001b[0;32mdef\u001b[0m \u001b[0mon_test_batch_end\u001b[0m\u001b[0;34m(\u001b[0m\u001b[0mself\u001b[0m\u001b[0;34m,\u001b[0m \u001b[0mbatch\u001b[0m\u001b[0;34m,\u001b[0m \u001b[0mlogs\u001b[0m\u001b[0;34m=\u001b[0m\u001b[0;32mNone\u001b[0m\u001b[0;34m)\u001b[0m\u001b[0;34m:\u001b[0m\u001b[0;34m\u001b[0m\u001b[0;34m\u001b[0m\u001b[0m\n",
            "\u001b[0;32m/usr/local/lib/python3.9/dist-packages/keras/callbacks.py\u001b[0m in \u001b[0;36m_batch_update_progbar\u001b[0;34m(self, batch, logs)\u001b[0m\n\u001b[1;32m   1168\u001b[0m         \u001b[0;32mif\u001b[0m \u001b[0mself\u001b[0m\u001b[0;34m.\u001b[0m\u001b[0mverbose\u001b[0m \u001b[0;34m==\u001b[0m \u001b[0;36m1\u001b[0m\u001b[0;34m:\u001b[0m\u001b[0;34m\u001b[0m\u001b[0;34m\u001b[0m\u001b[0m\n\u001b[1;32m   1169\u001b[0m             \u001b[0;31m# Only block async when verbose = 1.\u001b[0m\u001b[0;34m\u001b[0m\u001b[0;34m\u001b[0m\u001b[0m\n\u001b[0;32m-> 1170\u001b[0;31m             \u001b[0mlogs\u001b[0m \u001b[0;34m=\u001b[0m \u001b[0mtf_utils\u001b[0m\u001b[0;34m.\u001b[0m\u001b[0msync_to_numpy_or_python_type\u001b[0m\u001b[0;34m(\u001b[0m\u001b[0mlogs\u001b[0m\u001b[0;34m)\u001b[0m\u001b[0;34m\u001b[0m\u001b[0;34m\u001b[0m\u001b[0m\n\u001b[0m\u001b[1;32m   1171\u001b[0m             \u001b[0mself\u001b[0m\u001b[0;34m.\u001b[0m\u001b[0mprogbar\u001b[0m\u001b[0;34m.\u001b[0m\u001b[0mupdate\u001b[0m\u001b[0;34m(\u001b[0m\u001b[0mself\u001b[0m\u001b[0;34m.\u001b[0m\u001b[0mseen\u001b[0m\u001b[0;34m,\u001b[0m \u001b[0mlist\u001b[0m\u001b[0;34m(\u001b[0m\u001b[0mlogs\u001b[0m\u001b[0;34m.\u001b[0m\u001b[0mitems\u001b[0m\u001b[0;34m(\u001b[0m\u001b[0;34m)\u001b[0m\u001b[0;34m)\u001b[0m\u001b[0;34m,\u001b[0m \u001b[0mfinalize\u001b[0m\u001b[0;34m=\u001b[0m\u001b[0;32mFalse\u001b[0m\u001b[0;34m)\u001b[0m\u001b[0;34m\u001b[0m\u001b[0;34m\u001b[0m\u001b[0m\n\u001b[1;32m   1172\u001b[0m \u001b[0;34m\u001b[0m\u001b[0m\n",
            "\u001b[0;32m/usr/local/lib/python3.9/dist-packages/keras/utils/tf_utils.py\u001b[0m in \u001b[0;36msync_to_numpy_or_python_type\u001b[0;34m(tensors)\u001b[0m\n\u001b[1;32m    663\u001b[0m         \u001b[0;32mreturn\u001b[0m \u001b[0mt\u001b[0m\u001b[0;34m.\u001b[0m\u001b[0mitem\u001b[0m\u001b[0;34m(\u001b[0m\u001b[0;34m)\u001b[0m \u001b[0;32mif\u001b[0m \u001b[0mnp\u001b[0m\u001b[0;34m.\u001b[0m\u001b[0mndim\u001b[0m\u001b[0;34m(\u001b[0m\u001b[0mt\u001b[0m\u001b[0;34m)\u001b[0m \u001b[0;34m==\u001b[0m \u001b[0;36m0\u001b[0m \u001b[0;32melse\u001b[0m \u001b[0mt\u001b[0m\u001b[0;34m\u001b[0m\u001b[0;34m\u001b[0m\u001b[0m\n\u001b[1;32m    664\u001b[0m \u001b[0;34m\u001b[0m\u001b[0m\n\u001b[0;32m--> 665\u001b[0;31m     \u001b[0;32mreturn\u001b[0m \u001b[0mtf\u001b[0m\u001b[0;34m.\u001b[0m\u001b[0mnest\u001b[0m\u001b[0;34m.\u001b[0m\u001b[0mmap_structure\u001b[0m\u001b[0;34m(\u001b[0m\u001b[0m_to_single_numpy_or_python_type\u001b[0m\u001b[0;34m,\u001b[0m \u001b[0mtensors\u001b[0m\u001b[0;34m)\u001b[0m\u001b[0;34m\u001b[0m\u001b[0;34m\u001b[0m\u001b[0m\n\u001b[0m\u001b[1;32m    666\u001b[0m \u001b[0;34m\u001b[0m\u001b[0m\n\u001b[1;32m    667\u001b[0m \u001b[0;34m\u001b[0m\u001b[0m\n",
            "\u001b[0;32m/usr/local/lib/python3.9/dist-packages/tensorflow/python/util/nest.py\u001b[0m in \u001b[0;36mmap_structure\u001b[0;34m(func, *structure, **kwargs)\u001b[0m\n\u001b[1;32m    915\u001b[0m \u001b[0;34m\u001b[0m\u001b[0m\n\u001b[1;32m    916\u001b[0m   return pack_sequence_as(\n\u001b[0;32m--> 917\u001b[0;31m       \u001b[0mstructure\u001b[0m\u001b[0;34m[\u001b[0m\u001b[0;36m0\u001b[0m\u001b[0;34m]\u001b[0m\u001b[0;34m,\u001b[0m \u001b[0;34m[\u001b[0m\u001b[0mfunc\u001b[0m\u001b[0;34m(\u001b[0m\u001b[0;34m*\u001b[0m\u001b[0mx\u001b[0m\u001b[0;34m)\u001b[0m \u001b[0;32mfor\u001b[0m \u001b[0mx\u001b[0m \u001b[0;32min\u001b[0m \u001b[0mentries\u001b[0m\u001b[0;34m]\u001b[0m\u001b[0;34m,\u001b[0m\u001b[0;34m\u001b[0m\u001b[0;34m\u001b[0m\u001b[0m\n\u001b[0m\u001b[1;32m    918\u001b[0m       expand_composites=expand_composites)\n\u001b[1;32m    919\u001b[0m \u001b[0;34m\u001b[0m\u001b[0m\n",
            "\u001b[0;32m/usr/local/lib/python3.9/dist-packages/tensorflow/python/util/nest.py\u001b[0m in \u001b[0;36m<listcomp>\u001b[0;34m(.0)\u001b[0m\n\u001b[1;32m    915\u001b[0m \u001b[0;34m\u001b[0m\u001b[0m\n\u001b[1;32m    916\u001b[0m   return pack_sequence_as(\n\u001b[0;32m--> 917\u001b[0;31m       \u001b[0mstructure\u001b[0m\u001b[0;34m[\u001b[0m\u001b[0;36m0\u001b[0m\u001b[0;34m]\u001b[0m\u001b[0;34m,\u001b[0m \u001b[0;34m[\u001b[0m\u001b[0mfunc\u001b[0m\u001b[0;34m(\u001b[0m\u001b[0;34m*\u001b[0m\u001b[0mx\u001b[0m\u001b[0;34m)\u001b[0m \u001b[0;32mfor\u001b[0m \u001b[0mx\u001b[0m \u001b[0;32min\u001b[0m \u001b[0mentries\u001b[0m\u001b[0;34m]\u001b[0m\u001b[0;34m,\u001b[0m\u001b[0;34m\u001b[0m\u001b[0;34m\u001b[0m\u001b[0m\n\u001b[0m\u001b[1;32m    918\u001b[0m       expand_composites=expand_composites)\n\u001b[1;32m    919\u001b[0m \u001b[0;34m\u001b[0m\u001b[0m\n",
            "\u001b[0;32m/usr/local/lib/python3.9/dist-packages/keras/utils/tf_utils.py\u001b[0m in \u001b[0;36m_to_single_numpy_or_python_type\u001b[0;34m(t)\u001b[0m\n\u001b[1;32m    656\u001b[0m         \u001b[0;31m# Don't turn ragged or sparse tensors to NumPy.\u001b[0m\u001b[0;34m\u001b[0m\u001b[0;34m\u001b[0m\u001b[0m\n\u001b[1;32m    657\u001b[0m         \u001b[0;32mif\u001b[0m \u001b[0misinstance\u001b[0m\u001b[0;34m(\u001b[0m\u001b[0mt\u001b[0m\u001b[0;34m,\u001b[0m \u001b[0mtf\u001b[0m\u001b[0;34m.\u001b[0m\u001b[0mTensor\u001b[0m\u001b[0;34m)\u001b[0m\u001b[0;34m:\u001b[0m\u001b[0;34m\u001b[0m\u001b[0;34m\u001b[0m\u001b[0m\n\u001b[0;32m--> 658\u001b[0;31m             \u001b[0mt\u001b[0m \u001b[0;34m=\u001b[0m \u001b[0mt\u001b[0m\u001b[0;34m.\u001b[0m\u001b[0mnumpy\u001b[0m\u001b[0;34m(\u001b[0m\u001b[0;34m)\u001b[0m\u001b[0;34m\u001b[0m\u001b[0;34m\u001b[0m\u001b[0m\n\u001b[0m\u001b[1;32m    659\u001b[0m         \u001b[0;31m# Strings, ragged and sparse tensors don't have .item(). Return them\u001b[0m\u001b[0;34m\u001b[0m\u001b[0;34m\u001b[0m\u001b[0m\n\u001b[1;32m    660\u001b[0m         \u001b[0;31m# as-is.\u001b[0m\u001b[0;34m\u001b[0m\u001b[0;34m\u001b[0m\u001b[0m\n",
            "\u001b[0;32m/usr/local/lib/python3.9/dist-packages/tensorflow/python/framework/ops.py\u001b[0m in \u001b[0;36mnumpy\u001b[0;34m(self)\u001b[0m\n\u001b[1;32m   1153\u001b[0m     \"\"\"\n\u001b[1;32m   1154\u001b[0m     \u001b[0;31m# TODO(slebedev): Consider avoiding a copy for non-CPU or remote tensors.\u001b[0m\u001b[0;34m\u001b[0m\u001b[0;34m\u001b[0m\u001b[0m\n\u001b[0;32m-> 1155\u001b[0;31m     \u001b[0mmaybe_arr\u001b[0m \u001b[0;34m=\u001b[0m \u001b[0mself\u001b[0m\u001b[0;34m.\u001b[0m\u001b[0m_numpy\u001b[0m\u001b[0;34m(\u001b[0m\u001b[0;34m)\u001b[0m  \u001b[0;31m# pylint: disable=protected-access\u001b[0m\u001b[0;34m\u001b[0m\u001b[0;34m\u001b[0m\u001b[0m\n\u001b[0m\u001b[1;32m   1156\u001b[0m     \u001b[0;32mreturn\u001b[0m \u001b[0mmaybe_arr\u001b[0m\u001b[0;34m.\u001b[0m\u001b[0mcopy\u001b[0m\u001b[0;34m(\u001b[0m\u001b[0;34m)\u001b[0m \u001b[0;32mif\u001b[0m \u001b[0misinstance\u001b[0m\u001b[0;34m(\u001b[0m\u001b[0mmaybe_arr\u001b[0m\u001b[0;34m,\u001b[0m \u001b[0mnp\u001b[0m\u001b[0;34m.\u001b[0m\u001b[0mndarray\u001b[0m\u001b[0;34m)\u001b[0m \u001b[0;32melse\u001b[0m \u001b[0mmaybe_arr\u001b[0m\u001b[0;34m\u001b[0m\u001b[0;34m\u001b[0m\u001b[0m\n\u001b[1;32m   1157\u001b[0m \u001b[0;34m\u001b[0m\u001b[0m\n",
            "\u001b[0;32m/usr/local/lib/python3.9/dist-packages/tensorflow/python/framework/ops.py\u001b[0m in \u001b[0;36m_numpy\u001b[0;34m(self)\u001b[0m\n\u001b[1;32m   1119\u001b[0m   \u001b[0;32mdef\u001b[0m \u001b[0m_numpy\u001b[0m\u001b[0;34m(\u001b[0m\u001b[0mself\u001b[0m\u001b[0;34m)\u001b[0m\u001b[0;34m:\u001b[0m\u001b[0;34m\u001b[0m\u001b[0;34m\u001b[0m\u001b[0m\n\u001b[1;32m   1120\u001b[0m     \u001b[0;32mtry\u001b[0m\u001b[0;34m:\u001b[0m\u001b[0;34m\u001b[0m\u001b[0;34m\u001b[0m\u001b[0m\n\u001b[0;32m-> 1121\u001b[0;31m       \u001b[0;32mreturn\u001b[0m \u001b[0mself\u001b[0m\u001b[0;34m.\u001b[0m\u001b[0m_numpy_internal\u001b[0m\u001b[0;34m(\u001b[0m\u001b[0;34m)\u001b[0m\u001b[0;34m\u001b[0m\u001b[0;34m\u001b[0m\u001b[0m\n\u001b[0m\u001b[1;32m   1122\u001b[0m     \u001b[0;32mexcept\u001b[0m \u001b[0mcore\u001b[0m\u001b[0;34m.\u001b[0m\u001b[0m_NotOkStatusException\u001b[0m \u001b[0;32mas\u001b[0m \u001b[0me\u001b[0m\u001b[0;34m:\u001b[0m  \u001b[0;31m# pylint: disable=protected-access\u001b[0m\u001b[0;34m\u001b[0m\u001b[0;34m\u001b[0m\u001b[0m\n\u001b[1;32m   1123\u001b[0m       \u001b[0;32mraise\u001b[0m \u001b[0mcore\u001b[0m\u001b[0;34m.\u001b[0m\u001b[0m_status_to_exception\u001b[0m\u001b[0;34m(\u001b[0m\u001b[0me\u001b[0m\u001b[0;34m)\u001b[0m \u001b[0;32mfrom\u001b[0m \u001b[0;32mNone\u001b[0m  \u001b[0;31m# pylint: disable=protected-access\u001b[0m\u001b[0;34m\u001b[0m\u001b[0;34m\u001b[0m\u001b[0m\n",
            "\u001b[0;31mKeyboardInterrupt\u001b[0m: "
          ]
        }
      ]
    },
    {
      "cell_type": "markdown",
      "source": [
        "# Saving models"
      ],
      "metadata": {
        "id": "2lA_53oFYs-q"
      }
    },
    {
      "cell_type": "code",
      "source": [
        "generator.save('generator_2.h5')\n",
        "discriminator.save('discriminator_2.h5')"
      ],
      "metadata": {
        "id": "sEHHL4LLFF4J"
      },
      "execution_count": null,
      "outputs": []
    },
    {
      "cell_type": "code",
      "source": [
        "from google.colab import files\n",
        "\n",
        "files.download('generator_2.h5')\n",
        "files.download('discriminator_2.h5')"
      ],
      "metadata": {
        "id": "Ww_Smlv2P8jU"
      },
      "execution_count": null,
      "outputs": []
    },
    {
      "cell_type": "code",
      "source": [
        "generator = build_generator()"
      ],
      "metadata": {
        "id": "9RdiIWcoamDg"
      },
      "execution_count": null,
      "outputs": []
    },
    {
      "cell_type": "code",
      "source": [
        "generator.load_weights('generator_2.h5')"
      ],
      "metadata": {
        "id": "JZAZYmMnGQZV"
      },
      "execution_count": null,
      "outputs": []
    },
    {
      "cell_type": "code",
      "source": [
        "!zip -r images.zip images/"
      ],
      "metadata": {
        "id": "aOdfAUbatjcP"
      },
      "execution_count": null,
      "outputs": []
    },
    {
      "cell_type": "code",
      "source": [
        "files.download('images.zip')"
      ],
      "metadata": {
        "id": "JTCE9YcqyiVz"
      },
      "execution_count": null,
      "outputs": []
    },
    {
      "cell_type": "markdown",
      "source": [
        "# Plotting"
      ],
      "metadata": {
        "id": "w2J2wEwvFE_8"
      }
    },
    {
      "cell_type": "code",
      "source": [
        "import plotly.graph_objects as go\n",
        "from plotly.subplots import make_subplots\n",
        "\n",
        "# Create figure with secondary y-axis\n",
        "fig = make_subplots()\n",
        "\n",
        "# Add traces\n",
        "fig.add_trace(\n",
        "    go.Scatter(y = history.history['d_loss'], name = 'd_loss'),\n",
        "    secondary_y = False\n",
        ")\n",
        "\n",
        "fig.add_trace(\n",
        "    go.Scatter(y = history.history['g_loss'], name = 'g_loss'),\n",
        "    secondary_y = False\n",
        ")\n",
        "\n",
        "# Add figure title\n",
        "fig.update_layout(\n",
        "    title_text = 'Loss of GAN Model'\n",
        ")\n",
        "\n",
        "# Set x-axis title\n",
        "fig.update_xaxes(title_text = 'Epoch')"
      ],
      "metadata": {
        "id": "ig6t0aofGRlM"
      },
      "execution_count": null,
      "outputs": []
    },
    {
      "cell_type": "markdown",
      "source": [
        "# Testing model"
      ],
      "metadata": {
        "id": "tuUqfbQqaM8K"
      }
    },
    {
      "cell_type": "code",
      "source": [
        "imgs = generator.predict(tf.random.normal((1, 128, 1)))"
      ],
      "metadata": {
        "id": "kGot70QAGJgd"
      },
      "execution_count": null,
      "outputs": []
    },
    {
      "cell_type": "code",
      "source": [
        "array_to_img(imgs[0])"
      ],
      "metadata": {
        "id": "xnDZz6ZhZWbC"
      },
      "execution_count": null,
      "outputs": []
    }
  ],
  "metadata": {
    "colab": {
      "provenance": [],
      "collapsed_sections": [
        "x_lI-JGZdZCa"
      ]
    },
    "gpuClass": "premium",
    "kernelspec": {
      "display_name": "search_env",
      "language": "python",
      "name": "python3"
    },
    "language_info": {
      "codemirror_mode": {
        "name": "ipython",
        "version": 3
      },
      "file_extension": ".py",
      "mimetype": "text/x-python",
      "name": "python",
      "nbconvert_exporter": "python",
      "pygments_lexer": "ipython3",
      "version": "3.9.15"
    },
    "orig_nbformat": 4
  },
  "nbformat": 4,
  "nbformat_minor": 0
}