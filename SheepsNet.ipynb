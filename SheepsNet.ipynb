{
  "nbformat": 4,
  "nbformat_minor": 0,
  "metadata": {
    "colab": {
      "provenance": [],
      "collapsed_sections": [
        "Mm8RTylKY1LW",
        "Ct39IrD4fZV-"
      ]
    },
    "kernelspec": {
      "name": "python3",
      "display_name": "Python 3"
    },
    "language_info": {
      "name": "python"
    },
    "accelerator": "GPU",
    "gpuClass": "standard"
  },
  "cells": [
    {
      "cell_type": "markdown",
      "source": [
        "#Setting up"
      ],
      "metadata": {
        "id": "Mm8RTylKY1LW"
      }
    },
    {
      "cell_type": "code",
      "source": [
        "!pip install diffusers transformers accelerate"
      ],
      "metadata": {
        "id": "GJtMfi3bUS4o"
      },
      "execution_count": null,
      "outputs": []
    },
    {
      "cell_type": "code",
      "source": [
        "!accelerate config default"
      ],
      "metadata": {
        "id": "O_eJRUoQYHNn"
      },
      "execution_count": null,
      "outputs": []
    },
    {
      "cell_type": "code",
      "source": [
        "from diffusers import StableDiffusionControlNetPipeline, ControlNetModel\n",
        "from diffusers import UniPCMultistepScheduler\n",
        "from diffusers import StableDiffusionControlNetPipeline\n",
        "from diffusers.utils import load_image\n",
        "import PIL\n",
        "import torch\n",
        "import io\n",
        "from google.colab import files"
      ],
      "metadata": {
        "id": "IVBRBEWOX8y3"
      },
      "execution_count": null,
      "outputs": []
    },
    {
      "cell_type": "markdown",
      "source": [
        "# Loading Model"
      ],
      "metadata": {
        "id": "Ct39IrD4fZV-"
      }
    },
    {
      "cell_type": "code",
      "source": [
        "#@title **Hugging Face model**\n",
        "\n",
        "model_repository = 'GreeneryScenery/SheepsControlV3' #@param {type:\"string\"}\n",
        "stable_diffusion_repository = 'stabilityai/stable-diffusion-2-1-base' #@param {type:\"string\"}\n",
        "\n",
        "controlnet = ControlNetModel.from_pretrained(model_repository, torch_dtype=torch.float16)\n",
        "pipe = StableDiffusionControlNetPipeline.from_pretrained(\n",
        "    stable_diffusion_repository, controlnet=controlnet, torch_dtype=torch.float16\n",
        ")\n",
        "\n",
        "pipe.scheduler = UniPCMultistepScheduler.from_config(pipe.scheduler.config)\n",
        "\n",
        "# this command loads the individual model components on GPU on-demand.\n",
        "pipe.enable_model_cpu_offload()"
      ],
      "metadata": {
        "id": "7uIuaeEzW6FF",
        "cellView": "form"
      },
      "execution_count": null,
      "outputs": []
    },
    {
      "cell_type": "markdown",
      "source": [
        "#Generate image"
      ],
      "metadata": {
        "id": "b3Wi_6H8ZER6"
      }
    },
    {
      "cell_type": "code",
      "source": [
        "#@title **Calling model**\n",
        "\n",
        "seed = 1 #@param {type:\"slider\", min:0, max:10000, step:1}\n",
        "prompt = \"Sheep\" #@param {type:\"string\"}\n",
        "# , trending on artstation, artstationHD, artstationHQ, patreon, 4k, 8k\n",
        "\n",
        "generator = torch.manual_seed(seed)\n",
        "\n",
        "upload = True #@param {type:\"boolean\"}\n",
        "\n",
        "if not upload:\n",
        "  #@markdown  Link and filename are ignored if uploading file\n",
        "  filename = '1808816.png' #@param {type:\"string\"}\n",
        "  repository = 'GreeneryScenery/SheepsControlV3' #@param {type:\"string\"}\n",
        "  link = f'https://huggingface.co/{repository}/resolve/main/{filename}' #@param {type:\"string\"}\n",
        "  !wget $link\n",
        "  init_image = PIL.Image.open(filename).convert(\"RGB\")\n",
        "else:\n",
        "  uploaded = files.upload()\n",
        "  init_image = PIL.Image.open(io.BytesIO(uploaded[next(iter(uploaded))])).convert(\"RGB\")\n",
        "\n",
        "init_image.thumbnail((256, 256))\n",
        "\n",
        "out_image = pipe(\n",
        "    prompt, num_inference_steps=20, generator=generator, image=init_image\n",
        ").images[0]\n",
        "\n",
        "init_image.show()\n",
        "out_image.show()\n",
        "\n",
        "out_image.save(f\"{prompt}.png\")"
      ],
      "metadata": {
        "id": "IqilJkb8Uq_B",
        "cellView": "form"
      },
      "execution_count": null,
      "outputs": []
    }
  ]
}