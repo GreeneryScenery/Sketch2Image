{
  "cells": [
    {
      "cell_type": "markdown",
      "metadata": {
        "id": "C52cF49itThe"
      },
      "source": [
        "# Setting up"
      ]
    },
    {
      "cell_type": "code",
      "execution_count": null,
      "metadata": {
        "colab": {
          "base_uri": "https://localhost:8080/"
        },
        "id": "TErk3qLqtWdq",
        "outputId": "46f4c755-9b05-4404-ac1c-7510dc524fd5"
      },
      "outputs": [],
      "source": [
        "# For Google Colab\n",
        "# !pip install quickdraw ipyplot plotly"
      ]
    },
    {
      "cell_type": "code",
      "execution_count": null,
      "metadata": {
        "id": "ATVXzwrDtThk"
      },
      "outputs": [],
      "source": [
        "from quickdraw_preprocess import *\n",
        "import tensorflow as tf\n",
        "\n",
        "number_of_names = 5\n",
        "number_of_drawings = max_drawings"
      ]
    },
    {
      "cell_type": "markdown",
      "metadata": {
        "id": "3g_B3kEUtThm"
      },
      "source": [
        "# Creating and preprocessing dataset"
      ]
    },
    {
      "cell_type": "code",
      "execution_count": null,
      "metadata": {},
      "outputs": [],
      "source": [
        "random_image = random_image(1)\n",
        "random_image_array = preprocess_image(random_image)\n",
        "unprocess_array(random_image_array)"
      ]
    },
    {
      "cell_type": "code",
      "execution_count": null,
      "metadata": {
        "colab": {
          "base_uri": "https://localhost:8080/"
        },
        "id": "y45Sm9YqtThn",
        "outputId": "f46a02a1-43e8-44fc-9ba5-80111eedb663"
      },
      "outputs": [],
      "source": [
        "random_names = random_names(number_of_names, seed = 2)\n",
        "random_names"
      ]
    },
    {
      "cell_type": "code",
      "execution_count": null,
      "metadata": {
        "colab": {
          "base_uri": "https://localhost:8080/"
        },
        "id": "dBtKn0OmtThp",
        "outputId": "5e0dc632-c8e1-42d7-caa1-418975147e4e"
      },
      "outputs": [],
      "source": [
        "random_names_image_dict = image_dict_names(random_names)\n",
        "random_names_image_dict"
      ]
    },
    {
      "cell_type": "code",
      "execution_count": null,
      "metadata": {
        "colab": {
          "base_uri": "https://localhost:8080/",
          "height": 1000
        },
        "id": "RO7xc-4KtThp",
        "outputId": "e31ff5b7-d011-4d1b-a434-3e88d1d56940"
      },
      "outputs": [],
      "source": [
        "plot_image_dict_tabs(random_names_image_dict)"
      ]
    },
    {
      "cell_type": "code",
      "execution_count": null,
      "metadata": {
        "colab": {
          "base_uri": "https://localhost:8080/"
        },
        "id": "lPoEaAEQtThq",
        "outputId": "5aaebd9a-fa60-49b2-a69a-f8aea8977163"
      },
      "outputs": [],
      "source": [
        "examples, labels = preprocess_image_dict_to_arrays(random_names_image_dict)\n",
        "dict(zip(labels, examples))"
      ]
    },
    {
      "cell_type": "code",
      "execution_count": null,
      "metadata": {
        "colab": {
          "base_uri": "https://localhost:8080/"
        },
        "id": "dy-2vbj4tThr",
        "outputId": "d1028ea4-3dc3-4b71-aade-9a86c1558e21"
      },
      "outputs": [],
      "source": [
        "from sklearn.preprocessing import LabelBinarizer\n",
        "encoder = LabelBinarizer()\n",
        "transfomed_labels = encoder.fit_transform(labels)\n",
        "transfomed_labels"
      ]
    },
    {
      "cell_type": "code",
      "execution_count": null,
      "metadata": {
        "colab": {
          "base_uri": "https://localhost:8080/",
          "height": 430
        },
        "id": "qOyeBrf8tThr",
        "outputId": "47e9c1f8-e06e-42ef-da59-01d9fdc22ecd"
      },
      "outputs": [],
      "source": [
        "ipyplot.plot_class_tabs(images = examples, labels = labels, max_imgs_per_tab = 6, img_width = 128)"
      ]
    },
    {
      "cell_type": "code",
      "execution_count": null,
      "metadata": {
        "colab": {
          "base_uri": "https://localhost:8080/"
        },
        "id": "_BOFhFV_tThs",
        "outputId": "d5113ab7-f4fb-485a-9de2-ed1fcbecb58e"
      },
      "outputs": [],
      "source": [
        "dataset = tf.data.Dataset.from_tensor_slices((examples, transfomed_labels))\n",
        "dataset"
      ]
    },
    {
      "cell_type": "code",
      "execution_count": null,
      "metadata": {
        "colab": {
          "base_uri": "https://localhost:8080/"
        },
        "id": "Z9524R12tTht",
        "outputId": "bdd2f384-aa51-41ed-ebfe-e2b03e95a8fb"
      },
      "outputs": [],
      "source": [
        "dataset = dataset.shuffle(buffer_size = number_of_names * number_of_drawings)\n",
        "dataset = dataset.repeat(500).batch(32)\n",
        "dataset"
      ]
    },
    {
      "cell_type": "code",
      "execution_count": null,
      "metadata": {
        "colab": {
          "base_uri": "https://localhost:8080/"
        },
        "id": "GjnJ0EbntThu",
        "outputId": "c3f035ad-5380-4997-88f6-17203fb9f2c5"
      },
      "outputs": [],
      "source": [
        "dataset_iterator = dataset.as_numpy_iterator()\n",
        "dataset_iterator"
      ]
    },
    {
      "cell_type": "code",
      "execution_count": null,
      "metadata": {
        "colab": {
          "base_uri": "https://localhost:8080/"
        },
        "id": "GtYhjlR-tThw",
        "outputId": "c3204704-c8d9-4bd2-9bd0-4f5b0f74daf5"
      },
      "outputs": [],
      "source": [
        "batch = dataset_iterator.next()\n",
        "batch"
      ]
    },
    {
      "cell_type": "code",
      "execution_count": null,
      "metadata": {
        "colab": {
          "base_uri": "https://localhost:8080/",
          "height": 211
        },
        "id": "YRmGH0M5tThx",
        "outputId": "cb10a77f-379b-44e7-e40f-87b1f85186fa"
      },
      "outputs": [],
      "source": [
        "ipyplot.plot_images(images = batch[0], labels = batch[1], max_images = 6, img_width = 128)"
      ]
    },
    {
      "cell_type": "markdown",
      "metadata": {
        "id": "Q9z-Cz7JtThy"
      },
      "source": [
        "# Splitting dataset"
      ]
    },
    {
      "cell_type": "code",
      "execution_count": null,
      "metadata": {
        "id": "JTtfluMVtThz"
      },
      "outputs": [],
      "source": [
        "train_size = int(len(dataset) * 0.7)\n",
        "val_size = int(len(dataset) * 0.15)\n",
        "test_size = int(len(dataset) * 0.15)\n",
        "if train_size + val_size + test_size != len(dataset):\n",
        "    train_size += len(dataset) - (train_size + val_size + test_size)"
      ]
    },
    {
      "cell_type": "code",
      "execution_count": null,
      "metadata": {
        "colab": {
          "base_uri": "https://localhost:8080/"
        },
        "id": "NDCsLtSAtTh0",
        "outputId": "8a1f5734-e223-4d1c-8600-9a8c438da11f"
      },
      "outputs": [],
      "source": [
        "train_size, val_size, test_size, train_size + val_size + test_size, len(dataset)"
      ]
    },
    {
      "cell_type": "code",
      "execution_count": null,
      "metadata": {
        "id": "8y7ZYUDxtTh1"
      },
      "outputs": [],
      "source": [
        "train_data = dataset.take(train_size)\n",
        "val_data = dataset.skip(train_size).take(val_size)\n",
        "test_data = dataset.skip(train_size + val_size).take(test_size)"
      ]
    },
    {
      "cell_type": "markdown",
      "metadata": {
        "id": "xlvfo7JVtTh2"
      },
      "source": [
        "# Training CNN"
      ]
    },
    {
      "cell_type": "markdown",
      "metadata": {
        "id": "qPAgd7e-tTh3"
      },
      "source": [
        "## Build model"
      ]
    },
    {
      "cell_type": "code",
      "execution_count": null,
      "metadata": {
        "id": "kRqXf_BNtTh6"
      },
      "outputs": [],
      "source": [
        "from tensorflow.keras.models import Sequential\n",
        "from tensorflow.keras.layers import Conv2D, MaxPooling2D, Flatten, Dense, Dropout"
      ]
    },
    {
      "cell_type": "code",
      "execution_count": null,
      "metadata": {},
      "outputs": [],
      "source": [
        "effnet = EfficientNetB4(include_top = False, weights = 'imagenet', input_shape = (*resize_size, 1))"
      ]
    },
    {
      "cell_type": "code",
      "execution_count": null,
      "metadata": {
        "id": "8BJr3ynEtTh-"
      },
      "outputs": [],
      "source": [
        "model = Sequential()"
      ]
    },
    {
      "cell_type": "code",
      "execution_count": null,
      "metadata": {
        "id": "xHl5tLDotTh_"
      },
      "outputs": [],
      "source": [
        "model.add(Conv2D(16, (3, 3), 1, activation = 'relu'))\n",
        "model.add(MaxPooling2D())\n",
        "model.add(Flatten())\n",
        "model.add(Dense(resize_size[0], activation = 'relu'))\n",
        "model.add(Dropout(0.5))\n",
        "model.add(Dense(number_of_names, activation = 'softmax'))"
      ]
    },
    {
      "cell_type": "code",
      "execution_count": null,
      "metadata": {
        "id": "6vKtUdUxtTiA"
      },
      "outputs": [],
      "source": [
        "model.compile('adam', loss = tf.losses.BinaryCrossentropy(), metrics = ['accuracy'])"
      ]
    },
    {
      "cell_type": "code",
      "execution_count": null,
      "metadata": {
        "colab": {
          "base_uri": "https://localhost:8080/"
        },
        "id": "qEWXI4A9tTiA",
        "outputId": "2c9f3540-3551-4f65-d74b-7aa9dcc660b9"
      },
      "outputs": [],
      "source": [
        "model.summary()"
      ]
    },
    {
      "cell_type": "markdown",
      "metadata": {
        "id": "kNCUWw9xtTiA"
      },
      "source": [
        "## Train model"
      ]
    },
    {
      "cell_type": "code",
      "execution_count": null,
      "metadata": {
        "id": "VZ7zdrV7tTiB"
      },
      "outputs": [],
      "source": [
        "import os\n",
        "\n",
        "log_dir = 'logs'\n",
        "\n",
        "if not os.path.exists(log_dir):\n",
        "        os.mkdir(log_dir)"
      ]
    },
    {
      "cell_type": "code",
      "execution_count": null,
      "metadata": {
        "id": "5Kdgj3xUtTiB"
      },
      "outputs": [],
      "source": [
        "tensorboard_callback = tf.keras.callbacks.TensorBoard(log_dir = log_dir, histogram_freq = 1)"
      ]
    },
    {
      "cell_type": "code",
      "execution_count": null,
      "metadata": {
        "colab": {
          "base_uri": "https://localhost:8080/"
        },
        "id": "AGcVrnLFtTiB",
        "outputId": "d83fecb9-de6e-4c0c-f703-96ed81184fac"
      },
      "outputs": [],
      "source": [
        "train_data"
      ]
    },
    {
      "cell_type": "code",
      "execution_count": null,
      "metadata": {
        "colab": {
          "base_uri": "https://localhost:8080/"
        },
        "id": "bueEEG6ZtTiC",
        "outputId": "46ac85ed-4518-43a8-e5e7-009f7fe454b1"
      },
      "outputs": [],
      "source": [
        "history = model.fit(train_data, epochs = 20, validation_data = val_data, callbacks = [tensorboard_callback])"
      ]
    },
    {
      "cell_type": "markdown",
      "metadata": {
        "id": "4MTtqmBRtTiC"
      },
      "source": [
        "## Plot performance"
      ]
    },
    {
      "cell_type": "code",
      "execution_count": null,
      "metadata": {
        "colab": {
          "base_uri": "https://localhost:8080/"
        },
        "id": "L-zMX1cYu97y",
        "outputId": "b3301ee7-fd06-4b41-ee54-de5d05324d1f"
      },
      "outputs": [],
      "source": [
        "history.history"
      ]
    },
    {
      "cell_type": "code",
      "execution_count": null,
      "metadata": {
        "colab": {
          "base_uri": "https://localhost:8080/",
          "height": 542
        },
        "id": "nsukR7bL0AKc",
        "outputId": "a098581f-b14b-4283-a525-311adbfde2fa"
      },
      "outputs": [],
      "source": [
        "import plotly.graph_objects as go\n",
        "from plotly.subplots import make_subplots\n",
        "\n",
        "# Create figure with secondary y-axis\n",
        "fig = make_subplots(specs = [[{'secondary_y': True}]])\n",
        "\n",
        "# Add traces\n",
        "fig.add_trace(\n",
        "    go.Scatter(y = history.history['val_loss'], name = 'val_loss'),\n",
        "    secondary_y = False\n",
        ")\n",
        "\n",
        "fig.add_trace(\n",
        "    go.Scatter(y = history.history['loss'], name = 'loss'),\n",
        "    secondary_y = False\n",
        ")\n",
        "\n",
        "fig.add_trace(\n",
        "    go.Scatter(y = history.history['val_accuracy'], name = 'val accuracy'),\n",
        "    secondary_y = True\n",
        ")\n",
        "\n",
        "fig.add_trace(\n",
        "    go.Scatter( y=history.history['accuracy'], name = 'val accuracy'),\n",
        "    secondary_y = True\n",
        ")\n",
        "\n",
        "# Add figure title\n",
        "fig.update_layout(\n",
        "    title_text = 'Loss / Accuracy of CNN Model'\n",
        ")\n",
        "\n",
        "# Set x-axis title\n",
        "fig.update_xaxes(title_text = 'Epoch')"
      ]
    },
    {
      "cell_type": "markdown",
      "metadata": {
        "id": "b33efgwo2ZN-"
      },
      "source": [
        "# Evaluating model"
      ]
    },
    {
      "cell_type": "code",
      "execution_count": null,
      "metadata": {
        "id": "noCCjK2N2YE3"
      },
      "outputs": [],
      "source": [
        "from tensorflow.keras.metrics import Precision, Recall, BinaryAccuracy"
      ]
    },
    {
      "cell_type": "code",
      "execution_count": null,
      "metadata": {
        "id": "Kd34vQgo2hUe"
      },
      "outputs": [],
      "source": [
        "precision = Precision()\n",
        "recall = Recall()\n",
        "accuracy = BinaryAccuracy()"
      ]
    },
    {
      "cell_type": "code",
      "execution_count": null,
      "metadata": {
        "colab": {
          "base_uri": "https://localhost:8080/"
        },
        "id": "_7BQnSdx2nZQ",
        "outputId": "1dd7972d-92b7-4c5b-aecc-6937223315b7"
      },
      "outputs": [],
      "source": [
        "for batch in test_data.as_numpy_iterator():\n",
        "    x, y = batch\n",
        "    yhat = model.predict(x)\n",
        "    precision.update_state(y, yhat)\n",
        "    recall.update_state(y, yhat)\n",
        "    accuracy.update_state(y, yhat)"
      ]
    },
    {
      "cell_type": "code",
      "execution_count": null,
      "metadata": {
        "colab": {
          "base_uri": "https://localhost:8080/",
          "height": 35
        },
        "id": "eyW9MBKd2xoY",
        "outputId": "7d0be4b1-d66a-44bb-e113-034be16402a3"
      },
      "outputs": [],
      "source": [
        "f'Precision: {precision.result().numpy()}, Recall: {recall.result().numpy()}, Accuracy: {accuracy.result().numpy()}'"
      ]
    },
    {
      "cell_type": "markdown",
      "metadata": {
        "id": "MFmCI30V3Uwe"
      },
      "source": [
        "# Testing model"
      ]
    },
    {
      "cell_type": "code",
      "execution_count": null,
      "metadata": {},
      "outputs": [],
      "source": [
        "def decode(yhat):\n",
        "    decoded_predictions = []\n",
        "    for i in range(len(yhat[0])):\n",
        "        array = np.zeros(len(yhat[0]))\n",
        "        array[i] = 1\n",
        "        label = encoder.inverse_transform(np.expand_dims(array, 0))[0]\n",
        "        decoded_predictions.append((label, yhat[0][i] * 100))\n",
        "\n",
        "    text = ''\n",
        "    for pred in decoded_predictions:\n",
        "        text += '{}: {:.2f}%'.format(pred[0], pred[1]) + '\\n'\n",
        "    return text"
      ]
    },
    {
      "cell_type": "code",
      "execution_count": null,
      "metadata": {
        "colab": {
          "base_uri": "https://localhost:8080/",
          "height": 323
        },
        "id": "aILb14C43W8_",
        "outputId": "f36bbcc1-659a-4159-fa36-b865c6003c0f"
      },
      "outputs": [],
      "source": [
        "random_name = np.random.choice(random_names)\n",
        "random_image = qd.get_drawing(random_name)\n",
        "plot_image(random_image)"
      ]
    },
    {
      "cell_type": "code",
      "execution_count": null,
      "metadata": {},
      "outputs": [],
      "source": [
        "yhat = model.predict(np.expand_dims(preprocess_image(random_image), 0))\n",
        "decoded_labels = encoder.inverse_transform(yhat)\n",
        "if decoded_labels[0] == random_name:\n",
        "    print(f'Success! It is a {random_name}.')\n",
        "else:\n",
        "    print(f'Unlucky! It was a {random_name}.')\n",
        "print(decode(yhat))"
      ]
    },
    {
      "cell_type": "markdown",
      "metadata": {
        "id": "EkfPnLlpzJUv"
      },
      "source": [
        "# Save and load model"
      ]
    },
    {
      "cell_type": "code",
      "execution_count": null,
      "metadata": {
        "id": "bu5P2wLgwQWm"
      },
      "outputs": [],
      "source": [
        "model_dir = 'models'\n",
        "\n",
        "if not os.path.exists(model_dir):\n",
        "        os.mkdir(model_dir)"
      ]
    },
    {
      "cell_type": "code",
      "execution_count": null,
      "metadata": {
        "id": "K5AMR-75wMF9"
      },
      "outputs": [],
      "source": [
        "# model.save(os.path.join('models','cnn_model_2.h5'))"
      ]
    },
    {
      "cell_type": "code",
      "execution_count": null,
      "metadata": {
        "id": "EY0kYdL6y6LR"
      },
      "outputs": [],
      "source": [
        "from tensorflow.keras.models import load_model\n",
        "\n",
        "new_model = load_model('models/cnn_model_2.h5')"
      ]
    },
    {
      "cell_type": "code",
      "execution_count": null,
      "metadata": {
        "colab": {
          "base_uri": "https://localhost:8080/",
          "height": 268
        },
        "id": "-rpvEb_pzLZc",
        "outputId": "f32ca877-4e5f-4477-fc74-41a76211282a"
      },
      "outputs": [],
      "source": [
        "random_name = np.random.choice(random_names)\n",
        "random_image = qd.get_drawing(random_name)\n",
        "random_image.image"
      ]
    },
    {
      "cell_type": "code",
      "execution_count": null,
      "metadata": {
        "colab": {
          "base_uri": "https://localhost:8080/"
        },
        "id": "pF9NS54q7ncE",
        "outputId": "59743671-5501-4786-f5f1-220767879c81"
      },
      "outputs": [],
      "source": [
        "yhat = new_model.predict(np.expand_dims(preprocess_image(random_image), 0))\n",
        "decoded_labels = encoder.inverse_transform(yhat)\n",
        "if decoded_labels[0] == random_name:\n",
        "    print(f'Success! It is a {random_name}.')\n",
        "else:\n",
        "    print(f'Unlucky! It was a {random_name}.')\n",
        "print(decode(yhat))"
      ]
    }
  ],
  "metadata": {
    "accelerator": "GPU",
    "colab": {
      "collapsed_sections": [
        "C52cF49itThe",
        "Q9z-Cz7JtThy",
        "xlvfo7JVtTh2",
        "kNCUWw9xtTiA",
        "4MTtqmBRtTiC"
      ],
      "provenance": []
    },
    "gpuClass": "standard",
    "kernelspec": {
      "display_name": "search_env",
      "language": "python",
      "name": "python3"
    },
    "language_info": {
      "codemirror_mode": {
        "name": "ipython",
        "version": 3
      },
      "file_extension": ".py",
      "mimetype": "text/x-python",
      "name": "python",
      "nbconvert_exporter": "python",
      "pygments_lexer": "ipython3",
      "version": "3.9.15"
    },
    "orig_nbformat": 4
  },
  "nbformat": 4,
  "nbformat_minor": 0
}
