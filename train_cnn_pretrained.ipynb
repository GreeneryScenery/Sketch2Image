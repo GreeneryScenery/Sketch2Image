{
  "cells": [
    {
      "cell_type": "markdown",
      "metadata": {
        "id": "C52cF49itThe"
      },
      "source": [
        "# Setting up"
      ]
    },
    {
      "cell_type": "code",
      "execution_count": null,
      "metadata": {
        "id": "TErk3qLqtWdq"
      },
      "outputs": [],
      "source": [
        "# For Google Colab\n",
        "!pip install quickdraw ipyplot plotly"
      ]
    },
    {
      "cell_type": "code",
      "execution_count": null,
      "metadata": {
        "id": "ATVXzwrDtThk"
      },
      "outputs": [],
      "source": [
        "from quickdraw_preprocess_pretrained import *\n",
        "import tensorflow as tf\n",
        "\n",
        "number_of_names = 10\n",
        "number_of_drawings = max_drawings"
      ]
    },
    {
      "cell_type": "markdown",
      "metadata": {
        "id": "3g_B3kEUtThm"
      },
      "source": [
        "# Creating and preprocessing dataset"
      ]
    },
    {
      "cell_type": "code",
      "execution_count": null,
      "metadata": {
        "id": "bagZPkHSnOUY"
      },
      "outputs": [],
      "source": [
        "random_image = random_image(1)\n",
        "random_image_array = preprocess_image(random_image)\n",
        "print(random_image_array)\n",
        "unprocess_array(random_image_array)"
      ]
    },
    {
      "cell_type": "code",
      "execution_count": null,
      "metadata": {
        "id": "y45Sm9YqtThn"
      },
      "outputs": [],
      "source": [
        "random_names = random_names(number_of_names, seed = 2)\n",
        "random_names"
      ]
    },
    {
      "cell_type": "code",
      "execution_count": null,
      "metadata": {
        "id": "dBtKn0OmtThp"
      },
      "outputs": [],
      "source": [
        "random_names_image_dict = image_dict_names(random_names)\n",
        "random_names_image_dict"
      ]
    },
    {
      "cell_type": "code",
      "execution_count": null,
      "metadata": {
        "id": "RO7xc-4KtThp"
      },
      "outputs": [],
      "source": [
        "plot_image_dict_tabs(random_names_image_dict)"
      ]
    },
    {
      "cell_type": "code",
      "execution_count": null,
      "metadata": {
        "id": "lPoEaAEQtThq"
      },
      "outputs": [],
      "source": [
        "examples, labels = preprocess_image_dict_to_arrays(random_names_image_dict)\n",
        "dict(zip(labels, examples))"
      ]
    },
    {
      "cell_type": "code",
      "execution_count": null,
      "metadata": {
        "id": "dy-2vbj4tThr"
      },
      "outputs": [],
      "source": [
        "from sklearn.preprocessing import LabelBinarizer\n",
        "encoder = LabelBinarizer()\n",
        "transfomed_labels = encoder.fit_transform(labels)\n",
        "transfomed_labels"
      ]
    },
    {
      "cell_type": "code",
      "execution_count": null,
      "metadata": {
        "id": "qOyeBrf8tThr"
      },
      "outputs": [],
      "source": [
        "# ipyplot.plot_class_tabs(images = examples, labels = labels, max_imgs_per_tab = 6, img_width = 128)"
      ]
    },
    {
      "cell_type": "code",
      "execution_count": null,
      "metadata": {
        "id": "_BOFhFV_tThs"
      },
      "outputs": [],
      "source": [
        "dataset = tf.data.Dataset.from_tensor_slices((examples, transfomed_labels))\n",
        "dataset"
      ]
    },
    {
      "cell_type": "code",
      "execution_count": null,
      "metadata": {
        "id": "Z9524R12tTht"
      },
      "outputs": [],
      "source": [
        "dataset = dataset.shuffle(buffer_size = number_of_names * number_of_drawings)\n",
        "dataset = dataset.repeat(500).batch(32)\n",
        "dataset"
      ]
    },
    {
      "cell_type": "code",
      "execution_count": null,
      "metadata": {
        "id": "GjnJ0EbntThu"
      },
      "outputs": [],
      "source": [
        "dataset_iterator = dataset.as_numpy_iterator()\n",
        "dataset_iterator"
      ]
    },
    {
      "cell_type": "code",
      "execution_count": null,
      "metadata": {
        "id": "GtYhjlR-tThw"
      },
      "outputs": [],
      "source": [
        "batch = dataset_iterator.next()\n",
        "batch"
      ]
    },
    {
      "cell_type": "code",
      "execution_count": null,
      "metadata": {
        "id": "YRmGH0M5tThx"
      },
      "outputs": [],
      "source": [
        "# ipyplot.plot_images(images = batch[0], labels = batch[1], max_images = 6, img_width = 128)"
      ]
    },
    {
      "cell_type": "markdown",
      "metadata": {
        "id": "Q9z-Cz7JtThy"
      },
      "source": [
        "# Splitting dataset"
      ]
    },
    {
      "cell_type": "code",
      "execution_count": null,
      "metadata": {
        "id": "JTtfluMVtThz"
      },
      "outputs": [],
      "source": [
        "train_size = int(len(dataset) * 0.7)\n",
        "val_size = int(len(dataset) * 0.15)\n",
        "test_size = int(len(dataset) * 0.15)\n",
        "if train_size + val_size + test_size != len(dataset):\n",
        "    train_size += len(dataset) - (train_size + val_size + test_size)"
      ]
    },
    {
      "cell_type": "code",
      "execution_count": null,
      "metadata": {
        "id": "NDCsLtSAtTh0"
      },
      "outputs": [],
      "source": [
        "train_size, val_size, test_size, train_size + val_size + test_size, len(dataset)"
      ]
    },
    {
      "cell_type": "code",
      "execution_count": null,
      "metadata": {
        "id": "8y7ZYUDxtTh1"
      },
      "outputs": [],
      "source": [
        "train_data = dataset.take(train_size)\n",
        "val_data = dataset.skip(train_size).take(val_size)\n",
        "test_data = dataset.skip(train_size + val_size).take(test_size)"
      ]
    },
    {
      "cell_type": "markdown",
      "metadata": {
        "id": "xlvfo7JVtTh2"
      },
      "source": [
        "# Training CNN"
      ]
    },
    {
      "cell_type": "markdown",
      "metadata": {
        "id": "qPAgd7e-tTh3"
      },
      "source": [
        "## Build model"
      ]
    },
    {
      "cell_type": "code",
      "execution_count": null,
      "metadata": {
        "id": "kRqXf_BNtTh6"
      },
      "outputs": [],
      "source": [
        "from tensorflow.keras.models import Sequential\n",
        "from tensorflow.keras.layers import Conv2D, MaxPooling2D, Flatten, Dense, Dropout"
      ]
    },
    {
      "cell_type": "code",
      "source": [
        "from tensorflow.keras.applications.inception_v3 import InceptionV3\n",
        "\n",
        "base = InceptionV3(input_shape = (*resize_size, 3), weights='imagenet', include_top=False)\n",
        "\n",
        "for layer in base.layers:\n",
        "    layer.trainable = False"
      ],
      "metadata": {
        "id": "JGPW0fabxBvC"
      },
      "execution_count": null,
      "outputs": []
    },
    {
      "cell_type": "code",
      "source": [
        "average = tf.keras.layers.GlobalAveragePooling2D()(base.output)\n",
        "output = tf.keras.layers.Dense(number_of_names, activation = 'softmax')(average)\n",
        "model = tf.keras.Model(inputs = base.input, outputs = output)"
      ],
      "metadata": {
        "id": "fPkHVxcyzCII"
      },
      "execution_count": null,
      "outputs": []
    },
    {
      "cell_type": "code",
      "source": [
        "optimizer = tf.keras.optimizers.legacy.SGD(lr = 0.2, momentum = 0.9, decay = 0.01)"
      ],
      "metadata": {
        "id": "5KimMPPQziBw"
      },
      "execution_count": null,
      "outputs": []
    },
    {
      "cell_type": "code",
      "execution_count": null,
      "metadata": {
        "id": "6vKtUdUxtTiA"
      },
      "outputs": [],
      "source": [
        "model.compile(loss = tf.losses.BinaryCrossentropy(), optimizer = optimizer, metrics = ['accuracy'])"
      ]
    },
    {
      "cell_type": "code",
      "execution_count": null,
      "metadata": {
        "id": "qEWXI4A9tTiA"
      },
      "outputs": [],
      "source": [
        "model.summary()"
      ]
    },
    {
      "cell_type": "markdown",
      "metadata": {
        "id": "kNCUWw9xtTiA"
      },
      "source": [
        "## Train model"
      ]
    },
    {
      "cell_type": "code",
      "execution_count": null,
      "metadata": {
        "id": "VZ7zdrV7tTiB"
      },
      "outputs": [],
      "source": [
        "import os\n",
        "\n",
        "log_dir = 'logs'\n",
        "\n",
        "if not os.path.exists(log_dir):\n",
        "        os.mkdir(log_dir)"
      ]
    },
    {
      "cell_type": "code",
      "execution_count": null,
      "metadata": {
        "id": "5Kdgj3xUtTiB"
      },
      "outputs": [],
      "source": [
        "tensorboard_callback = tf.keras.callbacks.TensorBoard(log_dir = log_dir, histogram_freq = 1)"
      ]
    },
    {
      "cell_type": "code",
      "execution_count": null,
      "metadata": {
        "id": "AGcVrnLFtTiB"
      },
      "outputs": [],
      "source": [
        "train_data"
      ]
    },
    {
      "cell_type": "code",
      "execution_count": null,
      "metadata": {
        "id": "bueEEG6ZtTiC"
      },
      "outputs": [],
      "source": [
        "history = model.fit(train_data, epochs = 1, validation_data = val_data, callbacks = [tensorboard_callback])"
      ]
    },
    {
      "cell_type": "markdown",
      "metadata": {
        "id": "4MTtqmBRtTiC"
      },
      "source": [
        "## Plot performance"
      ]
    },
    {
      "cell_type": "code",
      "execution_count": null,
      "metadata": {
        "id": "L-zMX1cYu97y"
      },
      "outputs": [],
      "source": [
        "history.history"
      ]
    },
    {
      "cell_type": "code",
      "execution_count": null,
      "metadata": {
        "id": "nsukR7bL0AKc"
      },
      "outputs": [],
      "source": [
        "import plotly.graph_objects as go\n",
        "from plotly.subplots import make_subplots\n",
        "\n",
        "# Create figure with secondary y-axis\n",
        "fig = make_subplots(specs = [[{'secondary_y': True}]])\n",
        "\n",
        "# Add traces\n",
        "fig.add_trace(\n",
        "    go.Scatter(y = history.history['val_loss'], name = 'val_loss'),\n",
        "    secondary_y = False\n",
        ")\n",
        "\n",
        "fig.add_trace(\n",
        "    go.Scatter(y = history.history['loss'], name = 'loss'),\n",
        "    secondary_y = False\n",
        ")\n",
        "\n",
        "fig.add_trace(\n",
        "    go.Scatter(y = history.history['val_accuracy'], name = 'val accuracy'),\n",
        "    secondary_y = True\n",
        ")\n",
        "\n",
        "fig.add_trace(\n",
        "    go.Scatter( y=history.history['accuracy'], name = 'val accuracy'),\n",
        "    secondary_y = True\n",
        ")\n",
        "\n",
        "# Add figure title\n",
        "fig.update_layout(\n",
        "    title_text = 'Loss / Accuracy of CNN Model'\n",
        ")\n",
        "\n",
        "# Set x-axis title\n",
        "fig.update_xaxes(title_text = 'Epoch')"
      ]
    },
    {
      "cell_type": "markdown",
      "metadata": {
        "id": "b33efgwo2ZN-"
      },
      "source": [
        "# Evaluating model"
      ]
    },
    {
      "cell_type": "code",
      "execution_count": null,
      "metadata": {
        "id": "noCCjK2N2YE3"
      },
      "outputs": [],
      "source": [
        "from tensorflow.keras.metrics import Precision, Recall, BinaryAccuracy"
      ]
    },
    {
      "cell_type": "code",
      "execution_count": null,
      "metadata": {
        "id": "Kd34vQgo2hUe"
      },
      "outputs": [],
      "source": [
        "precision = Precision()\n",
        "recall = Recall()\n",
        "accuracy = BinaryAccuracy()"
      ]
    },
    {
      "cell_type": "code",
      "execution_count": null,
      "metadata": {
        "id": "_7BQnSdx2nZQ"
      },
      "outputs": [],
      "source": [
        "for batch in test_data.as_numpy_iterator():\n",
        "    x, y = batch\n",
        "    yhat = model.predict(x)\n",
        "    precision.update_state(y, yhat)\n",
        "    recall.update_state(y, yhat)\n",
        "    accuracy.update_state(y, yhat)"
      ]
    },
    {
      "cell_type": "code",
      "execution_count": null,
      "metadata": {
        "id": "eyW9MBKd2xoY"
      },
      "outputs": [],
      "source": [
        "f'Precision: {precision.result().numpy()}, Recall: {recall.result().numpy()}, Accuracy: {accuracy.result().numpy()}'"
      ]
    },
    {
      "cell_type": "markdown",
      "metadata": {
        "id": "MFmCI30V3Uwe"
      },
      "source": [
        "# Testing model"
      ]
    },
    {
      "cell_type": "code",
      "execution_count": null,
      "metadata": {
        "id": "HiplX0u7nOUw"
      },
      "outputs": [],
      "source": [
        "def decode(yhat):\n",
        "    decoded_predictions = []\n",
        "    for i in range(len(yhat[0])):\n",
        "        array = np.zeros(len(yhat[0]))\n",
        "        array[i] = 1\n",
        "        label = encoder.inverse_transform(np.expand_dims(array, 0))[0]\n",
        "        decoded_predictions.append((label, yhat[0][i] * 100))\n",
        "\n",
        "    text = ''\n",
        "    for pred in decoded_predictions:\n",
        "        text += '{}: {:.2f}%'.format(pred[0], pred[1]) + '\\n'\n",
        "    return text"
      ]
    },
    {
      "cell_type": "code",
      "execution_count": null,
      "metadata": {
        "id": "aILb14C43W8_"
      },
      "outputs": [],
      "source": [
        "random_name = np.random.choice(random_names)\n",
        "random_image = qd.get_drawing(random_name)\n",
        "plot_image(random_image)"
      ]
    },
    {
      "cell_type": "code",
      "execution_count": null,
      "metadata": {
        "id": "ig9724lfnOUx"
      },
      "outputs": [],
      "source": [
        "yhat = model.predict(np.expand_dims(preprocess_image(random_image), 0))\n",
        "decoded_labels = encoder.inverse_transform(yhat)\n",
        "if decoded_labels[0] == random_name:\n",
        "    print(f'Success! It is a {random_name}.')\n",
        "else:\n",
        "    print(f'Unlucky! It was a {random_name}.')\n",
        "print(decode(yhat))"
      ]
    },
    {
      "cell_type": "markdown",
      "metadata": {
        "id": "EkfPnLlpzJUv"
      },
      "source": [
        "# Save and load model"
      ]
    },
    {
      "cell_type": "code",
      "execution_count": null,
      "metadata": {
        "id": "bu5P2wLgwQWm"
      },
      "outputs": [],
      "source": [
        "model_dir = 'models'\n",
        "\n",
        "if not os.path.exists(model_dir):\n",
        "        os.mkdir(model_dir)"
      ]
    },
    {
      "cell_type": "code",
      "execution_count": null,
      "metadata": {
        "id": "K5AMR-75wMF9"
      },
      "outputs": [],
      "source": [
        "model.save(os.path.join('models','cnn_model_4.h5'))"
      ]
    },
    {
      "cell_type": "code",
      "execution_count": null,
      "metadata": {
        "id": "EY0kYdL6y6LR"
      },
      "outputs": [],
      "source": [
        "from tensorflow.keras.models import load_model\n",
        "\n",
        "new_model = load_model('models/cnn_model_4.h5')"
      ]
    },
    {
      "cell_type": "code",
      "execution_count": null,
      "metadata": {
        "id": "-rpvEb_pzLZc"
      },
      "outputs": [],
      "source": [
        "random_name = np.random.choice(random_names)\n",
        "random_image = qd.get_drawing(random_name)\n",
        "random_image.image"
      ]
    },
    {
      "cell_type": "code",
      "execution_count": null,
      "metadata": {
        "id": "pF9NS54q7ncE"
      },
      "outputs": [],
      "source": [
        "yhat = new_model.predict(np.expand_dims(preprocess_image(random_image), 0))\n",
        "decoded_labels = encoder.inverse_transform(yhat)\n",
        "if decoded_labels[0] == random_name:\n",
        "    print(f'Success! It is a {random_name}.')\n",
        "else:\n",
        "    print(f'Unlucky! It was a {random_name}.')\n",
        "print(decode(yhat))"
      ]
    }
  ],
  "metadata": {
    "accelerator": "TPU",
    "colab": {
      "collapsed_sections": [
        "Q9z-Cz7JtThy"
      ],
      "provenance": []
    },
    "gpuClass": "standard",
    "kernelspec": {
      "display_name": "search_env",
      "language": "python",
      "name": "python3"
    },
    "language_info": {
      "codemirror_mode": {
        "name": "ipython",
        "version": 3
      },
      "file_extension": ".py",
      "mimetype": "text/x-python",
      "name": "python",
      "nbconvert_exporter": "python",
      "pygments_lexer": "ipython3",
      "version": "3.9.15"
    },
    "orig_nbformat": 4
  },
  "nbformat": 4,
  "nbformat_minor": 0
}